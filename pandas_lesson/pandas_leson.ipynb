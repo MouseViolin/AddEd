{
 "cells": [
  {
   "cell_type": "markdown",
   "id": "b829f66b-27f9-4411-9afb-5cd8da0f4a41",
   "metadata": {},
   "source": [
    "# Задание 1"
   ]
  },
  {
   "cell_type": "code",
   "execution_count": 1,
   "id": "4063f79d-2b1a-4fd8-9ded-3d008076854c",
   "metadata": {},
   "outputs": [
    {
     "name": "stdout",
     "output_type": "stream",
     "text": [
      "a     0\n",
      "b     1\n",
      "c     2\n",
      "e     3\n",
      "d     4\n",
      "f     5\n",
      "g     6\n",
      "h     7\n",
      "i     8\n",
      "j     9\n",
      "k    10\n",
      "l    11\n",
      "m    12\n",
      "n    13\n",
      "o    14\n",
      "p    15\n",
      "q    16\n",
      "r    17\n",
      "s    18\n",
      "t    19\n",
      "u    20\n",
      "v    21\n",
      "w    22\n",
      "x    23\n",
      "y    24\n",
      "z    25\n",
      "dtype: int64\n"
     ]
    }
   ],
   "source": [
    "import numpy as np\n",
    "import pandas as pd\n",
    "mylist = list('abcedfghijklmnopqrstuvwxyz')\n",
    "myarr = np.arange(26)\n",
    "mydict = dict(zip(mylist, myarr))\n",
    "\n",
    "ser0 = pd.Series(mylist)\n",
    "ser1 = pd.Series(myarr)\n",
    "ser2 = pd.Series(mydict)\n",
    "print(ser2)"
   ]
  },
  {
   "cell_type": "markdown",
   "id": "25792f3c-1cb8-41b1-a221-1e3aecf3a55a",
   "metadata": {},
   "source": [
    "# Задание 2"
   ]
  },
  {
   "cell_type": "code",
   "execution_count": 7,
   "id": "a10cd5d7-3330-4971-a285-dc7a887c7e30",
   "metadata": {},
   "outputs": [
    {
     "name": "stdout",
     "output_type": "stream",
     "text": [
      "   0\n",
      "a  0\n",
      "b  1\n",
      "c  2\n",
      "e  3\n",
      "d  4\n",
      "f  5\n",
      "g  6\n",
      "h  7\n",
      "i  8\n",
      "j  9\n"
     ]
    }
   ],
   "source": [
    "import numpy as np\n",
    "mylist = list('abcedfghijklmnopqrstuvwxyz')\n",
    "myarr = np.arange(26)\n",
    "mydict = dict(zip(mylist, myarr))\n",
    "ser = pd.Series(mydict)\n",
    "\n",
    "df = pd.DataFrame(ser)\n",
    "print(df[:10])"
   ]
  },
  {
   "cell_type": "markdown",
   "id": "ecbfd64a-1b2b-43c1-8b9a-96e0a7c17904",
   "metadata": {},
   "source": [
    "# Задание 3"
   ]
  },
  {
   "cell_type": "code",
   "execution_count": 9,
   "id": "61333830-c371-477d-acbd-1e7a5050a2fb",
   "metadata": {},
   "outputs": [
    {
     "name": "stdout",
     "output_type": "stream",
     "text": [
      "   Index  Value\n",
      "0      a      0\n",
      "1      b      1\n",
      "2      c      2\n",
      "3      e      3\n",
      "4      d      4\n",
      "5      f      5\n",
      "6      g      6\n",
      "7      h      7\n",
      "8      i      8\n",
      "9      j      9\n",
      "10     k     10\n",
      "11     l     11\n",
      "12     m     12\n",
      "13     n     13\n",
      "14     o     14\n",
      "15     p     15\n",
      "16     q     16\n",
      "17     r     17\n",
      "18     s     18\n",
      "19     t     19\n",
      "20     u     20\n",
      "21     v     21\n",
      "22     w     22\n",
      "23     x     23\n",
      "24     y     24\n",
      "25     z     25\n"
     ]
    }
   ],
   "source": [
    "import numpy as np\n",
    "mylist = list('abcedfghijklmnopqrstuvwxyz')\n",
    "myarr = np.arange(26)\n",
    "mydict = dict(zip(mylist, myarr))\n",
    "ser = pd.Series(mydict)\n",
    "df = ser.reset_index()\n",
    "df.columns=['Index','Value']\n",
    "print(df)"
   ]
  },
  {
   "cell_type": "markdown",
   "id": "ddfdb208-ccd0-4aec-838e-eddd0c4bdc23",
   "metadata": {},
   "source": [
    "# Задание 4"
   ]
  },
  {
   "cell_type": "code",
   "execution_count": 11,
   "id": "878368b1-0168-4df2-ae2c-3bd57c0acf48",
   "metadata": {},
   "outputs": [
    {
     "name": "stdout",
     "output_type": "stream",
     "text": [
      "   Column1  Column2\n",
      "0        a        0\n",
      "1        b        1\n",
      "2        c        2\n",
      "3        e        3\n",
      "4        d        4\n",
      "5        f        5\n",
      "6        g        6\n",
      "7        h        7\n",
      "8        i        8\n",
      "9        j        9\n",
      "10       k       10\n",
      "11       l       11\n",
      "12       m       12\n",
      "13       n       13\n",
      "14       o       14\n",
      "15       p       15\n",
      "16       q       16\n",
      "17       r       17\n",
      "18       s       18\n",
      "19       t       19\n",
      "20       u       20\n",
      "21       v       21\n",
      "22       w       22\n",
      "23       x       23\n",
      "24       y       24\n",
      "25       z       25\n"
     ]
    }
   ],
   "source": [
    "import numpy as np\n",
    "mylist = list('abcedfghijklmnopqrstuvwxyz')\n",
    "myarr = np.arange(26)\n",
    "mydict = dict(zip(mylist, myarr))\n",
    "ser0 = pd.Series(mylist)\n",
    "ser1 = pd.Series(myarr)\n",
    "df = pd.concat([ser0,ser1],axis=1)\n",
    "df.columns = ['Column1','Column2']\n",
    "print(df)"
   ]
  },
  {
   "cell_type": "markdown",
   "id": "a925a2b4-e1bc-412e-adcf-03eff53ad1bb",
   "metadata": {},
   "source": [
    "# Задание 5"
   ]
  },
  {
   "cell_type": "code",
   "execution_count": 12,
   "id": "2ad50c15-6a44-43ed-b044-362daa71e16e",
   "metadata": {},
   "outputs": [
    {
     "name": "stdout",
     "output_type": "stream",
     "text": [
      "0     a\n",
      "1     b\n",
      "2     c\n",
      "3     e\n",
      "4     d\n",
      "5     f\n",
      "6     g\n",
      "7     h\n",
      "8     i\n",
      "9     j\n",
      "10    k\n",
      "11    l\n",
      "12    m\n",
      "13    n\n",
      "14    o\n",
      "15    p\n",
      "16    q\n",
      "17    r\n",
      "18    s\n",
      "19    t\n",
      "20    u\n",
      "21    v\n",
      "22    w\n",
      "23    x\n",
      "24    y\n",
      "25    z\n",
      "Name: latin_letters, dtype: object\n"
     ]
    }
   ],
   "source": [
    "ser = pd.Series(list('abcedfghijklmnopqrstuvwxyz'))\n",
    "ser.name = 'latin_letters'\n",
    "print(ser)"
   ]
  },
  {
   "cell_type": "markdown",
   "id": "184b6750-3532-463e-8c6d-a7ab9998dcc3",
   "metadata": {},
   "source": [
    "# Задание 6"
   ]
  },
  {
   "cell_type": "code",
   "execution_count": 18,
   "id": "2beed0c3-3143-4bfe-ad7f-0c55681673e5",
   "metadata": {},
   "outputs": [
    {
     "name": "stdout",
     "output_type": "stream",
     "text": [
      "0    1\n",
      "1    2\n",
      "2    3\n",
      "2    6\n",
      "3    7\n",
      "4    8\n",
      "dtype: int64\n"
     ]
    }
   ],
   "source": [
    "ser1 = pd.Series([1, 2, 3, 4, 5])\n",
    "ser2 = pd.Series([4, 5, 6, 7, 8])\n",
    "result = pd.concat([ser1[~ser1.isin(ser2)], ser2[~ser2.isin(ser1)]])\n",
    "print(result)"
   ]
  },
  {
   "cell_type": "markdown",
   "id": "fffa2cf4-43f5-4956-92a6-cab0fef443b6",
   "metadata": {},
   "source": [
    "# Задание 7"
   ]
  },
  {
   "cell_type": "code",
   "execution_count": 11,
   "id": "d0783924-491a-41b9-87b5-059e175b508a",
   "metadata": {},
   "outputs": [
    {
     "name": "stdout",
     "output_type": "stream",
     "text": [
      "Минимальное значение: -2.06956884968569\n",
      "25-й процентиль: 5.421623551208695\n",
      "Медиана: 10.279708682995606\n",
      "75-й процентиль: 13.616703400231142\n",
      "Максимальное значение: 19.249634464470848\n"
     ]
    },
    {
     "data": {
      "text/plain": [
       "array([-2.06956885,  5.42162355, 10.27970868, 13.6167034 , 19.24963446])"
      ]
     },
     "execution_count": 11,
     "metadata": {},
     "output_type": "execute_result"
    }
   ],
   "source": [
    "ser = pd.Series(np.random.normal(10, 5, 25))\n",
    "\n",
    "\n",
    "min_value = ser.min()\n",
    "q25 = ser.quantile(0.25)\n",
    "median = ser.median()\n",
    "q75 = ser.quantile(0.75)\n",
    "max_value = ser.max()\n",
    "\n",
    "\n",
    "print(f\"Минимальное значение: {min_value}\")\n",
    "print(f\"25-й процентиль: {q25}\")\n",
    "print(f\"Медиана: {median}\")\n",
    "print(f\"75-й процентиль: {q75}\")\n",
    "print(f\"Максимальное значение: {max_value}\")\n",
    "\n",
    "np.percentile(ser,q=[0,25,50,75,100])"
   ]
  },
  {
   "cell_type": "markdown",
   "id": "d8ed3169-1254-4285-a43a-e74d3e4f94db",
   "metadata": {},
   "source": [
    "# Задание 8"
   ]
  },
  {
   "cell_type": "code",
   "execution_count": 21,
   "id": "99daf5f0-ebee-44de-b773-5be6e7eff5a7",
   "metadata": {},
   "outputs": [
    {
     "name": "stdout",
     "output_type": "stream",
     "text": [
      "a    0.300000\n",
      "d    0.166667\n",
      "f    0.166667\n",
      "c    0.100000\n",
      "b    0.100000\n",
      "h    0.066667\n",
      "e    0.066667\n",
      "g    0.033333\n",
      "Name: proportion, dtype: float64\n"
     ]
    }
   ],
   "source": [
    "ser = pd.Series(np.take(list('abcdefgh'), np.random.randint(8, size=30)))\n",
    "print(ser.value_counts(normalize=True))"
   ]
  },
  {
   "cell_type": "markdown",
   "id": "dd2298b7-3a5b-4bff-b228-0cd33b102539",
   "metadata": {},
   "source": [
    "# Задание 9"
   ]
  },
  {
   "cell_type": "code",
   "execution_count": 10,
   "id": "8954ca7d-c04f-438c-ad31-e4dda9594a11",
   "metadata": {},
   "outputs": [
    {
     "name": "stdout",
     "output_type": "stream",
     "text": [
      "\n",
      "Модифицированная серия:\n",
      "0          2\n",
      "1     Прочее\n",
      "2          4\n",
      "3     Прочее\n",
      "4          2\n",
      "5     Прочее\n",
      "6          4\n",
      "7     Прочее\n",
      "8          4\n",
      "9          2\n",
      "10    Прочее\n",
      "11         2\n",
      "dtype: object\n"
     ]
    }
   ],
   "source": [
    "np.random.RandomState(100)\n",
    "ser = pd.Series(np.random.randint(1, 5, [12]))\n",
    "\n",
    "\n",
    "ser_modified = ser.map(lambda x: x if x in ser.value_counts().head(2).index else 'Прочее')\n",
    "\n",
    "\n",
    "\n",
    "print(\"\\nМодифицированная серия:\")\n",
    "print(ser_modified)"
   ]
  },
  {
   "cell_type": "markdown",
   "id": "350fd155-5369-42bb-909d-b1b566e9df2d",
   "metadata": {},
   "source": [
    "# Задание 10"
   ]
  },
  {
   "cell_type": "code",
   "execution_count": 16,
   "id": "508cb985-430d-41ad-b0ea-45d192693355",
   "metadata": {},
   "outputs": [
    {
     "name": "stdout",
     "output_type": "stream",
     "text": [
      "0    0.736968\n",
      "1    0.728231\n",
      "2    0.285314\n",
      "3    0.705892\n",
      "4    0.160251\n",
      "dtype: float64\n"
     ]
    },
    {
     "data": {
      "text/plain": [
       "0    8th\n",
       "1    8th\n",
       "2    3th\n",
       "3    7th\n",
       "4    2th\n",
       "dtype: category\n",
       "Categories (10, object): ['1th' < '2th' < '3th' < '4th' ... '7th' < '8th' < '9th' < '10th']"
      ]
     },
     "execution_count": 16,
     "metadata": {},
     "output_type": "execute_result"
    }
   ],
   "source": [
    "ser = pd.Series(np.random.random(20))\n",
    "print(ser.head())\n",
    "\n",
    "pd.qcut(ser, q = [0, .1, .2, .3, .4, .5, .6, .7, .8, .9, 1], labels = ['1th','2th','3th','4th','5th','6th','7th','8th','9th','10th']).head()"
   ]
  },
  {
   "cell_type": "markdown",
   "id": "02ca97e6-b51a-401b-aafe-6c263aba0fb8",
   "metadata": {},
   "source": [
    "# Задание 11"
   ]
  },
  {
   "cell_type": "code",
   "execution_count": 20,
   "id": "3d7fe98b-db8d-45ea-92cf-4ca4106930de",
   "metadata": {},
   "outputs": [
    {
     "name": "stdout",
     "output_type": "stream",
     "text": [
      "   0  1  2  3  4\n",
      "0  6  3  5  8  5\n",
      "1  1  4  9  9  2\n",
      "2  8  6  5  8  9\n",
      "3  7  3  1  3  4\n",
      "4  2  5  5  7  7\n",
      "5  6  1  1  3  8\n",
      "6  4  1  9  3  9\n"
     ]
    }
   ],
   "source": [
    "ser = pd.Series(np.random.randint(1, 10, 35))\n",
    "\n",
    "df = pd.DataFrame(ser.values.reshape(7,5))\n",
    "print(df)"
   ]
  },
  {
   "cell_type": "markdown",
   "id": "905473f6-0dd4-4173-acce-3cfc7ec48609",
   "metadata": {},
   "source": [
    "# Задание 12"
   ]
  },
  {
   "cell_type": "code",
   "execution_count": 23,
   "id": "bf385603-ef53-46ba-90c0-de987b37f3ae",
   "metadata": {},
   "outputs": [
    {
     "name": "stdout",
     "output_type": "stream",
     "text": [
      "0    7\n",
      "1    6\n",
      "2    9\n",
      "3    4\n",
      "4    3\n",
      "5    4\n",
      "6    5\n",
      "dtype: int64\n",
      "0    False\n",
      "1     True\n",
      "2     True\n",
      "3    False\n",
      "4     True\n",
      "5    False\n",
      "6    False\n",
      "dtype: bool\n"
     ]
    },
    {
     "data": {
      "text/plain": [
       "array([[1],\n",
       "       [2],\n",
       "       [4]])"
      ]
     },
     "execution_count": 23,
     "metadata": {},
     "output_type": "execute_result"
    }
   ],
   "source": [
    "ser = pd.Series(np.random.randint(1, 10, 7))\n",
    "print(ser)\n",
    "print(ser % 3 == 0)\n",
    "np.argwhere(ser % 3 == 0)"
   ]
  },
  {
   "cell_type": "markdown",
   "id": "0eb0c20c-e1ed-4365-8d89-cae110fc1b36",
   "metadata": {},
   "source": [
    "# Задание 13"
   ]
  },
  {
   "cell_type": "code",
   "execution_count": 30,
   "id": "201f75a4-c90b-462c-a14e-7c856edfd174",
   "metadata": {},
   "outputs": [
    {
     "name": "stdout",
     "output_type": "stream",
     "text": [
      "0     a\n",
      "4     e\n",
      "8     i\n",
      "14    o\n",
      "20    u\n",
      "dtype: object\n",
      "['a', 'e', 'i', 'o', 'u']\n"
     ]
    }
   ],
   "source": [
    "ser = pd.Series(list('abcdefghijklmnopqrstuvwxyz'))\n",
    "pos = [0, 4, 8, 14, 20]\n",
    "print(ser.take(pos))\n",
    "print([ser[x] for x in pos])"
   ]
  },
  {
   "cell_type": "markdown",
   "id": "0f9d1b5e-cb0d-4484-96a7-42df53856d94",
   "metadata": {},
   "source": [
    "# Задание 14"
   ]
  },
  {
   "cell_type": "code",
   "execution_count": 35,
   "id": "50159ecc-77a4-4cc7-b8cb-429aaa3732d1",
   "metadata": {},
   "outputs": [
    {
     "name": "stdout",
     "output_type": "stream",
     "text": [
      "   0  1\n",
      "0  0  a\n",
      "1  1  b\n",
      "2  2  c\n",
      "3  3  d\n",
      "4  4  e\n"
     ]
    }
   ],
   "source": [
    "ser1 = pd.Series(range(5))\n",
    "ser2 = pd.Series(list('abcde'))\n",
    "df = pd.DataFrame({'0': ser1, '1': ser2})\n",
    "print(df)"
   ]
  },
  {
   "cell_type": "markdown",
   "id": "6b12f3fb-990f-4d1c-b90c-f21ae5545d5f",
   "metadata": {},
   "source": [
    "# Задание 15"
   ]
  },
  {
   "cell_type": "code",
   "execution_count": 36,
   "id": "2ff6fe5d-15b1-44be-9a87-0ef7cd2e56e4",
   "metadata": {},
   "outputs": [
    {
     "data": {
      "text/plain": [
       "[[5], [4], [0], [8]]"
      ]
     },
     "execution_count": 36,
     "metadata": {},
     "output_type": "execute_result"
    }
   ],
   "source": [
    "ser1 = pd.Series([10, 9, 6, 5, 3, 1, 12, 8, 13])\n",
    "ser2 = pd.Series([1, 3, 10, 13])\n",
    "[np.where(i == ser1)[0].tolist() for i in ser2]"
   ]
  },
  {
   "cell_type": "markdown",
   "id": "4052ed18-5298-4230-96d8-7eb7a82924e3",
   "metadata": {},
   "source": [
    "# Задание 16"
   ]
  },
  {
   "cell_type": "code",
   "execution_count": 37,
   "id": "78748d7f-8a8b-4cdd-bfbb-50818fea676a",
   "metadata": {},
   "outputs": [
    {
     "data": {
      "text/plain": [
       "np.float64(0.24747118210320246)"
      ]
     },
     "execution_count": 37,
     "metadata": {},
     "output_type": "execute_result"
    }
   ],
   "source": [
    "truth = pd.Series(range(10))\n",
    "pred = pd.Series(range(10)) + np.random.random(10)\n",
    "np.mean((truth-pred)**2)"
   ]
  },
  {
   "cell_type": "markdown",
   "id": "556f7827-04d6-44f4-9e5d-4705a8646dcc",
   "metadata": {},
   "source": [
    "# Задание 17"
   ]
  },
  {
   "cell_type": "code",
   "execution_count": 38,
   "id": "6ca3a5c9-e574-4b66-8041-50fa319a1d01",
   "metadata": {},
   "outputs": [
    {
     "data": {
      "text/plain": [
       "0     How\n",
       "1      To\n",
       "2    Kick\n",
       "3    Ass?\n",
       "dtype: object"
      ]
     },
     "execution_count": 38,
     "metadata": {},
     "output_type": "execute_result"
    }
   ],
   "source": [
    "ser = pd.Series(['how', 'to', 'kick', 'ass?'])\n",
    "pd.Series(x.title() for x in ser)"
   ]
  },
  {
   "cell_type": "markdown",
   "id": "a5d6f707-98e7-4c4d-ae64-0c6a8393d774",
   "metadata": {},
   "source": [
    "# Задание 18"
   ]
  },
  {
   "cell_type": "code",
   "execution_count": 40,
   "id": "74e32678-dd4e-4087-b1c3-baae55e1c57f",
   "metadata": {},
   "outputs": [
    {
     "data": {
      "text/plain": [
       "0    3\n",
       "1    2\n",
       "2    4\n",
       "3    4\n",
       "dtype: int64"
      ]
     },
     "execution_count": 40,
     "metadata": {},
     "output_type": "execute_result"
    }
   ],
   "source": [
    "ser = pd.Series(['how', 'to', 'kick', 'ass?'])\n",
    "pd.Series(len(x) for x in ser)"
   ]
  },
  {
   "cell_type": "markdown",
   "id": "625db9f1-138e-467a-a13f-5db6dd6adee4",
   "metadata": {},
   "source": [
    "# Задание 19"
   ]
  },
  {
   "cell_type": "code",
   "execution_count": 43,
   "id": "97833d57-6219-40b8-adb1-36fd4647b73b",
   "metadata": {},
   "outputs": [
    {
     "name": "stdout",
     "output_type": "stream",
     "text": [
      "0    NaN\n",
      "1    2.0\n",
      "2    3.0\n",
      "3    4.0\n",
      "4    5.0\n",
      "5    6.0\n",
      "6    6.0\n",
      "7    8.0\n",
      "dtype: float64\n",
      "0    NaN\n",
      "1    NaN\n",
      "2    1.0\n",
      "3    1.0\n",
      "4    1.0\n",
      "5    1.0\n",
      "6    0.0\n",
      "7    2.0\n",
      "dtype: float64\n"
     ]
    }
   ],
   "source": [
    "ser = pd.Series([1, 3, 6, 10, 15, 21, 27, 35])\n",
    "print(ser.diff())\n",
    "print(ser.diff().diff())"
   ]
  },
  {
   "cell_type": "markdown",
   "id": "741093a4-4473-49f3-9426-3269b94065db",
   "metadata": {},
   "source": [
    "# Задание 20"
   ]
  },
  {
   "cell_type": "code",
   "execution_count": 5,
   "id": "9c0b202b-d8cd-42b9-8c6d-6969f396bf2a",
   "metadata": {},
   "outputs": [
    {
     "name": "stdout",
     "output_type": "stream",
     "text": [
      "0   2010-01-01 00:00:00\n",
      "1   2011-02-02 00:00:00\n",
      "2   2012-03-03 00:00:00\n",
      "3   2013-04-04 00:00:00\n",
      "4   2014-05-05 00:00:00\n",
      "5   2015-06-06 12:20:00\n",
      "dtype: datetime64[ns]\n"
     ]
    }
   ],
   "source": [
    "ser = pd.Series(['01 Jan 2010', '02-02-2011', '20120303', '2013/04/04', '2014-05-05', '2015-06-06T12:20'])\n",
    "ser_datetime = pd.to_datetime(ser,format='mixed')\n",
    "print(ser_datetime)"
   ]
  },
  {
   "cell_type": "markdown",
   "id": "2e4eec03-2340-43ea-89f1-fea988e80141",
   "metadata": {},
   "source": [
    "# Задание 21"
   ]
  },
  {
   "cell_type": "code",
   "execution_count": 9,
   "id": "7e9cac05-0bd8-4aa8-b701-173b52ec01ff",
   "metadata": {},
   "outputs": [
    {
     "name": "stdout",
     "output_type": "stream",
     "text": [
      "[1, 2, 3, 4, 5, 6]\n",
      "[53, 5, 9, 14, 19, 23]\n",
      "[1, 33, 63, 94, 125, 157]\n",
      "['Friday', 'Wednesday', 'Saturday', 'Thursday', 'Monday', 'Saturday']\n"
     ]
    }
   ],
   "source": [
    "ser = pd.Series(['01 Jan 2010', '02-02-2011', '20120303', '2013/04/04', '2014-05-05', '2015-06-06T12:20'])\n",
    "ser_datetime = pd.to_datetime(ser,format='mixed')\n",
    "print(ser_datetime.dt.day.tolist())\n",
    "print(ser_datetime.dt.isocalendar().week.tolist())\n",
    "print(ser_datetime.dt.dayofyear.tolist())\n",
    "print(ser_datetime.dt.day_name().tolist())"
   ]
  },
  {
   "cell_type": "markdown",
   "id": "d2ef4bd3-9941-47d6-b19a-49dc1ce42a4b",
   "metadata": {},
   "source": [
    "# Задание 22"
   ]
  },
  {
   "cell_type": "code",
   "execution_count": 10,
   "id": "8ca59d8a-b5fd-42e6-85fa-26032cf1a952",
   "metadata": {},
   "outputs": [
    {
     "name": "stdout",
     "output_type": "stream",
     "text": [
      "0   2010-01-04\n",
      "1   2011-02-04\n",
      "2   2012-03-04\n",
      "dtype: datetime64[ns]\n"
     ]
    }
   ],
   "source": [
    "ser = pd.Series(['Jan 2010', 'Feb 2011', 'Mar 2012'])\n",
    "ser_datetime = pd.to_datetime(ser,format='mixed').apply(lambda x: x.replace(day=4))\n",
    "print(ser_datetime)"
   ]
  },
  {
   "cell_type": "markdown",
   "id": "f9e64ba1-c180-4eaf-8683-4dc651c7d43d",
   "metadata": {},
   "source": [
    "# Задание 23"
   ]
  },
  {
   "cell_type": "code",
   "execution_count": 11,
   "id": "80fb44bf-f483-4340-a55b-19b0951e6d22",
   "metadata": {},
   "outputs": [
    {
     "name": "stdout",
     "output_type": "stream",
     "text": [
      "0     Apple\n",
      "1    Orange\n",
      "4     Money\n",
      "dtype: object\n"
     ]
    }
   ],
   "source": [
    "ser = pd.Series(['Apple', 'Orange', 'Plan', 'Python', 'Money'])\n",
    "def count_vowels(word):\n",
    "    vowels = 'aeiouAEIOU'\n",
    "    return sum(1 for char in word if char in vowels)\n",
    "fil_ser = ser[ser.apply(count_vowels) >= 2]\n",
    "print(fil_ser)"
   ]
  },
  {
   "cell_type": "markdown",
   "id": "1c859dfc-d591-494d-8bc0-fde91dfb8080",
   "metadata": {},
   "source": [
    "# Задание 24"
   ]
  },
  {
   "cell_type": "code",
   "execution_count": 16,
   "id": "12f61304-9a46-4b7c-bfe2-969a81ceb475",
   "metadata": {},
   "outputs": [
    {
     "name": "stdout",
     "output_type": "stream",
     "text": [
      "1    rameses@egypt.com\n",
      "2            matt@t.co\n",
      "3    narendra@modi.com\n",
      "dtype: object\n"
     ]
    }
   ],
   "source": [
    "emails = pd.Series(['buying books at amazom.com', 'rameses@egypt.com', 'matt@t.co', 'narendra@modi.com'])\n",
    "pattern ='[A-Za-z0-9._%+-]+@[A-Za-z0-9.-]+\\\\.[A-Za-z]{2,4}'\n",
    "\n",
    "import re \n",
    "mask = emails.map(lambda x: bool(re.match(pattern,x)))\n",
    "print(emails[mask])"
   ]
  },
  {
   "cell_type": "markdown",
   "id": "7bf0d977-acf3-42f3-8701-3f14872d304b",
   "metadata": {},
   "source": [
    "# Задание 25"
   ]
  },
  {
   "cell_type": "code",
   "execution_count": 24,
   "id": "02e1d03d-115a-44f2-bd00-2a3fe377e00c",
   "metadata": {},
   "outputs": [
    {
     "name": "stdout",
     "output_type": "stream",
     "text": [
      "[1.0, 2.0, 3.0, 4.0, 5.0, 6.0, 7.0, 8.0, 9.0, 10.0]\n",
      "['carrot', 'apple', 'apple', 'apple', 'carrot', 'apple', 'banana', 'apple', 'banana', 'carrot']\n",
      "fruit\n",
      "apple     4.600000\n",
      "banana    8.000000\n",
      "carrot    5.333333\n",
      "Name: weights, dtype: float64\n"
     ]
    }
   ],
   "source": [
    "fruit = pd.Series(np.random.choice(['apple', 'banana', 'carrot'], 10))\n",
    "weights = pd.Series(np.linspace(1, 10, 10))\n",
    "print(weights.tolist())\n",
    "print(fruit.tolist())\n",
    "\n",
    "df = pd.DataFrame({'fruit': fruit, 'weights':weights})\n",
    "print(df.groupby('fruit')['weights'].mean())"
   ]
  },
  {
   "cell_type": "markdown",
   "id": "170daf7f-ecea-47ff-b0e8-e9ba5c77f68c",
   "metadata": {},
   "source": [
    "# Задание 26"
   ]
  },
  {
   "cell_type": "code",
   "execution_count": 25,
   "id": "b1bd3fec-6daf-41e0-b58a-35e0a508c69b",
   "metadata": {},
   "outputs": [
    {
     "name": "stdout",
     "output_type": "stream",
     "text": [
      "18.16590212458495\n"
     ]
    }
   ],
   "source": [
    "p = pd.Series([1, 2, 3, 4, 5, 6, 7, 8, 9, 10])\n",
    "q = pd.Series([10, 9, 8, 7, 6, 5, 4, 3, 2, 1])\n",
    "\n",
    "print(np.linalg.norm(p-q))"
   ]
  },
  {
   "cell_type": "markdown",
   "id": "5c03c876-3472-4f59-9974-a565e7d40c5f",
   "metadata": {},
   "source": [
    "# Задание 27"
   ]
  },
  {
   "cell_type": "code",
   "execution_count": 27,
   "id": "64f980ea-77da-4e74-9e7e-074fde1eb0ee",
   "metadata": {},
   "outputs": [
    {
     "name": "stdout",
     "output_type": "stream",
     "text": [
      "Index([1, 5, 7], dtype='int64')\n"
     ]
    }
   ],
   "source": [
    "ser = pd.Series([2, 10, 3, 4, 9, 10, 2, 7, 3])\n",
    "print(ser[(ser > ser.shift(1)) & (ser > ser.shift(-1))].index)\n"
   ]
  },
  {
   "cell_type": "markdown",
   "id": "8510e9fe-915a-4dfc-bc77-754db9ec0221",
   "metadata": {},
   "source": [
    "# Задание 28"
   ]
  },
  {
   "cell_type": "code",
   "execution_count": 3,
   "id": "ad35b7cc-c7f9-4ac7-95c4-53ec83495620",
   "metadata": {},
   "outputs": [
    {
     "name": "stdout",
     "output_type": "stream",
     "text": [
      "dbccdebcabedcgade\n"
     ]
    }
   ],
   "source": [
    "my_str = 'dbc deb abed gade'\n",
    "\n",
    "char_series = pd.Series(list(my_str))\n",
    "\n",
    "char_counts = char_series.value_counts()\n",
    "least_frequent_char = char_counts.idxmin()\n",
    "\n",
    "result = my_str.replace(' ', least_frequent_char)\n",
    "\n",
    "print(result)"
   ]
  },
  {
   "cell_type": "markdown",
   "id": "13449c11-cc1f-47ba-a599-5a60fd071fac",
   "metadata": {},
   "source": [
    "# Задание 29"
   ]
  },
  {
   "cell_type": "code",
   "execution_count": 6,
   "id": "bf0b7922-94df-48c1-b530-150956305570",
   "metadata": {},
   "outputs": [
    {
     "name": "stdout",
     "output_type": "stream",
     "text": [
      "2000-01-01    4\n",
      "2000-01-08    8\n",
      "2000-01-15    2\n",
      "2000-01-22    4\n",
      "2000-01-29    8\n",
      "2000-02-05    9\n",
      "2000-02-12    2\n",
      "2000-02-19    5\n",
      "2000-02-26    9\n",
      "2000-03-04    4\n",
      "Freq: W-SAT, dtype: int64\n"
     ]
    }
   ],
   "source": [
    "dates = pd.date_range(start='2000-01-01', periods=10, freq='W-SAT')\n",
    "val = np.random.randint(1,10,size=10)\n",
    "print(pd.Series(data=val, index=dates))\n"
   ]
  },
  {
   "cell_type": "markdown",
   "id": "3f4a21e9-2a47-4a6e-bd15-b2095cecb286",
   "metadata": {},
   "source": [
    "# Задание 30"
   ]
  },
  {
   "cell_type": "code",
   "execution_count": 19,
   "id": "945a011f-3c81-41cd-acf5-2c52b6c67019",
   "metadata": {},
   "outputs": [
    {
     "name": "stdout",
     "output_type": "stream",
     "text": [
      "2000-01-01     1.0\n",
      "2000-01-03    10.0\n",
      "2000-01-06     3.0\n",
      "2000-01-08     NaN\n",
      "dtype: float64\n",
      "2000-01-01     1.0\n",
      "2000-01-02     1.0\n",
      "2000-01-03    10.0\n",
      "2000-01-04    10.0\n",
      "2000-01-05    10.0\n",
      "2000-01-06     3.0\n",
      "2000-01-07     3.0\n",
      "2000-01-08     3.0\n",
      "Freq: D, dtype: float64\n"
     ]
    }
   ],
   "source": [
    "ser = pd.Series([1,10,3,np.nan], index=pd.to_datetime(['2000-01-01', '2000-01-03', '2000-01-06', '2000-01-08'],format='mixed'))\n",
    "print(ser)\n",
    "full_range = pd.date_range(start=ser.index.min(),end=ser.index.max(),freq='D')\n",
    "full_ser = ser.reindex(full_range)\n",
    "print(full_ser.ffill())"
   ]
  },
  {
   "cell_type": "markdown",
   "id": "dea7190a-9ab5-499e-811d-567739dd6174",
   "metadata": {},
   "source": [
    "# Задание 31"
   ]
  },
  {
   "cell_type": "code",
   "execution_count": 12,
   "id": "5e279911-0f03-4a1b-ae73-af666fedae83",
   "metadata": {},
   "outputs": [
    {
     "name": "stdout",
     "output_type": "stream",
     "text": [
      "values will change due to randomness [np.float64(0.18057524844255377), np.float64(0.18056528413594866), np.float64(0.36416974468591756), np.float64(-0.02772415809647937), np.float64(0.20250415350626558), np.float64(0.46010716020396897), np.float64(-0.3295529356096082), np.float64(0.030780629217268013), np.float64(0.23064202866801894), np.float64(0.022739151223171016)]\n",
      "Lag having highest correlation: 5\n"
     ]
    }
   ],
   "source": [
    "ser = pd.Series(np.arange(20) + np.random.normal(1, 10, 20))\n",
    "autocorr = [ser.autocorr(lag=i) for i in range(1, 11)]\n",
    "max_corr_lag = np.argmax(autocorr)\n",
    "print(f\"values will change due to randomness {autocorr}\")\n",
    "print(f\"Lag having highest correlation: {max_corr_lag}\")"
   ]
  },
  {
   "cell_type": "markdown",
   "id": "5a2ae67a-ed8f-4b38-8a3a-174be8511de0",
   "metadata": {},
   "source": [
    "# Задание 32"
   ]
  },
  {
   "cell_type": "code",
   "execution_count": 17,
   "id": "c0350eae-aaa1-46be-b45d-61aef235bced",
   "metadata": {},
   "outputs": [
    {
     "name": "stdout",
     "output_type": "stream",
     "text": [
      "      crim  zn  indus  chas    nox     rm   age     dis  rad  tax  ptratio  \\\n",
      "0  0.21977   0   6.91     0  0.448  5.602  62.0  6.0877    3  233     17.9   \n",
      "1  0.06860   0   2.89     0  0.445  7.416  62.5  3.4952    2  276     18.0   \n",
      "2  2.73397   0  19.58     0  0.871  5.597  94.9  1.5257    5  403     14.7   \n",
      "3  0.03150  95   1.47     0  0.403  6.975  15.3  7.6534    3  402     17.0   \n",
      "4  0.19073  22   5.86     0  0.431  6.718  17.5  7.8265    7  330     19.1   \n",
      "5  0.05561  70   2.24     0  0.400  7.041  10.0  7.8278    5  358     14.8   \n",
      "6  0.02899  40   1.25     0  0.429  6.939  34.5  8.7921    1  335     19.7   \n",
      "7  9.91655   0  18.10     0  0.693  5.852  77.8  1.5004   24  666     20.2   \n",
      "8  7.52601   0  18.10     0  0.713  6.417  98.3  2.1850   24  666     20.2   \n",
      "9  0.17783   0   9.69     0  0.585  5.569  73.5  2.3999    6  391     19.2   \n",
      "\n",
      "        b  lstat  medv  \n",
      "0  396.90  16.20  19.4  \n",
      "1  396.90   6.19  33.2  \n",
      "2  351.85  21.45  15.4  \n",
      "3  396.90   4.56  34.9  \n",
      "4  393.74   6.56  26.2  \n",
      "5  371.58   4.74  29.0  \n",
      "6  389.85   5.89  26.6  \n",
      "7  338.16  29.97   6.3  \n",
      "8  304.21  19.31  13.0  \n",
      "9  395.77  15.10  17.5  \n"
     ]
    }
   ],
   "source": [
    "df = pd.read_csv('https://raw.githubusercontent.com/selva86/datasets/master/BostonHousing.csv', skiprows=lambda x: x%50 != 0 and x!=0)\n",
    "print(df)\n"
   ]
  },
  {
   "cell_type": "markdown",
   "id": "2ce0c88e-29c5-405c-921d-23456cc60fd0",
   "metadata": {},
   "source": [
    "# Задание 33"
   ]
  },
  {
   "cell_type": "code",
   "execution_count": 20,
   "id": "ba2a32a5-1e0c-49f8-82b3-39a0f07681c9",
   "metadata": {},
   "outputs": [
    {
     "name": "stdout",
     "output_type": "stream",
     "text": [
      "        crim    zn  indus  chas    nox     rm   age     dis  rad  tax  \\\n",
      "0    0.00632  18.0   2.31     0  0.538  6.575  65.2  4.0900    1  296   \n",
      "1    0.02731   0.0   7.07     0  0.469  6.421  78.9  4.9671    2  242   \n",
      "2    0.02729   0.0   7.07     0  0.469  7.185  61.1  4.9671    2  242   \n",
      "3    0.03237   0.0   2.18     0  0.458  6.998  45.8  6.0622    3  222   \n",
      "4    0.06905   0.0   2.18     0  0.458  7.147  54.2  6.0622    3  222   \n",
      "..       ...   ...    ...   ...    ...    ...   ...     ...  ...  ...   \n",
      "501  0.06263   0.0  11.93     0  0.573  6.593  69.1  2.4786    1  273   \n",
      "502  0.04527   0.0  11.93     0  0.573  6.120  76.7  2.2875    1  273   \n",
      "503  0.06076   0.0  11.93     0  0.573  6.976  91.0  2.1675    1  273   \n",
      "504  0.10959   0.0  11.93     0  0.573  6.794  89.3  2.3889    1  273   \n",
      "505  0.04741   0.0  11.93     0  0.573  6.030  80.8  2.5050    1  273   \n",
      "\n",
      "     ptratio       b  lstat  medv  \n",
      "0       15.3  396.90   4.98   Low  \n",
      "1       17.8  396.90   9.14   Low  \n",
      "2       17.8  392.83   4.03  High  \n",
      "3       18.7  394.63   2.94  High  \n",
      "4       18.7  396.90   5.33  High  \n",
      "..       ...     ...    ...   ...  \n",
      "501     21.0  391.99   9.67   Low  \n",
      "502     21.0  396.90   9.08   Low  \n",
      "503     21.0  396.90   5.64   Low  \n",
      "504     21.0  393.45   6.48   Low  \n",
      "505     21.0  396.90   7.88   Low  \n",
      "\n",
      "[506 rows x 14 columns]\n"
     ]
    }
   ],
   "source": [
    "df = pd.read_csv('https://raw.githubusercontent.com/selva86/datasets/master/BostonHousing.csv', converters={'medv': lambda x: 'Low' if float(x) < 25 else 'High'})\n",
    "print(df)"
   ]
  },
  {
   "cell_type": "markdown",
   "id": "7208d888-5e17-4330-8413-44afd806f5c0",
   "metadata": {},
   "source": [
    "# Задание 34"
   ]
  },
  {
   "cell_type": "code",
   "execution_count": 22,
   "id": "0d5441e6-0df4-47f4-b6ea-09f1825dd6f2",
   "metadata": {},
   "outputs": [
    {
     "name": "stdout",
     "output_type": "stream",
     "text": [
      "[[ 0  1  2  3]\n",
      " [ 2  3  4  5]\n",
      " [ 4  5  6  7]\n",
      " [ 6  7  8  9]\n",
      " [ 8  9 10 11]\n",
      " [10 11 12 13]]\n"
     ]
    }
   ],
   "source": [
    "L = pd.Series(range(15))\n",
    "result = np.array([L[i:i + 4].values for i in range(0, len(L) - 4 + 1, 2)])\n",
    "print(result)"
   ]
  },
  {
   "cell_type": "markdown",
   "id": "688d2ef9-fc45-4131-b06b-67328464479e",
   "metadata": {},
   "source": [
    "# Задание 35"
   ]
  },
  {
   "cell_type": "code",
   "execution_count": 55,
   "id": "7ba283d5-81ef-4378-b292-408786cfba44",
   "metadata": {},
   "outputs": [
    {
     "name": "stdout",
     "output_type": "stream",
     "text": [
      "      crim  medv\n",
      "0  0.00632  24.0\n",
      "1  0.02731  21.6\n",
      "2  0.02729  34.7\n",
      "3  0.03237  33.4\n",
      "4  0.06905  36.2\n"
     ]
    }
   ],
   "source": [
    "df = pd.read_csv('https://raw.githubusercontent.com/selva86/datasets/master/BostonHousing.csv', usecols = ['crim', 'medv'])\n",
    "print(df.head())"
   ]
  },
  {
   "cell_type": "markdown",
   "id": "75d3f50f-a6e8-409a-9fb9-025ea26b9878",
   "metadata": {},
   "source": [
    "# Задание 36"
   ]
  },
  {
   "cell_type": "code",
   "execution_count": 30,
   "id": "b7ba8969-7d08-43a2-aa07-50f5f69bc075",
   "metadata": {},
   "outputs": [
    {
     "name": "stdout",
     "output_type": "stream",
     "text": [
      "93\n",
      "27\n",
      "Manufacturer     object\n",
      "Model            object\n",
      "Type             object\n",
      "Min.Price       float64\n",
      "Price           float64\n",
      "Max.Price       float64\n",
      "MPG.city        float64\n",
      "MPG.highway     float64\n",
      "AirBags          object\n",
      "DriveTrain       object\n",
      "dtype: object\n",
      "       Manufacturer    Model     Type  Min.Price      Price  Max.Price  \\\n",
      "count            89       92       90  86.000000  91.000000  88.000000   \n",
      "unique           31       92        6        NaN        NaN        NaN   \n",
      "top            Ford  Integra  Midsize        NaN        NaN        NaN   \n",
      "freq              8        1       22        NaN        NaN        NaN   \n",
      "mean            NaN      NaN      NaN  17.118605  19.616484  21.459091   \n",
      "std             NaN      NaN      NaN   8.828290   9.724280  10.696563   \n",
      "min             NaN      NaN      NaN   6.700000   7.400000   7.900000   \n",
      "25%             NaN      NaN      NaN  10.825000  12.350000  14.575000   \n",
      "50%             NaN      NaN      NaN  14.600000  17.700000  19.150000   \n",
      "75%             NaN      NaN      NaN  20.250000  23.500000  24.825000   \n",
      "max             NaN      NaN      NaN  45.400000  61.900000  80.000000   \n",
      "\n",
      "         MPG.city  MPG.highway      AirBags DriveTrain  ... Passengers  \\\n",
      "count   84.000000    91.000000           55         86  ...  91.000000   \n",
      "unique        NaN          NaN            2          3  ...        NaN   \n",
      "top           NaN          NaN  Driver only      Front  ...        NaN   \n",
      "freq          NaN          NaN           39         61  ...        NaN   \n",
      "mean    22.404762    29.065934          NaN        NaN  ...   5.076923   \n",
      "std      5.841520     5.370293          NaN        NaN  ...   1.045953   \n",
      "min     15.000000    20.000000          NaN        NaN  ...   2.000000   \n",
      "25%     18.000000    26.000000          NaN        NaN  ...   4.000000   \n",
      "50%     21.000000    28.000000          NaN        NaN  ...   5.000000   \n",
      "75%     25.000000    31.000000          NaN        NaN  ...   6.000000   \n",
      "max     46.000000    50.000000          NaN        NaN  ...   8.000000   \n",
      "\n",
      "            Length   Wheelbase      Width  Turn.circle Rear.seat.room  \\\n",
      "count    89.000000   92.000000  87.000000    88.000000      89.000000   \n",
      "unique         NaN         NaN        NaN          NaN            NaN   \n",
      "top            NaN         NaN        NaN          NaN            NaN   \n",
      "freq           NaN         NaN        NaN          NaN            NaN   \n",
      "mean    182.865169  103.956522  69.448276    38.954545      27.853933   \n",
      "std      14.792651    6.856317   3.778023     3.304157       3.018129   \n",
      "min     141.000000   90.000000  60.000000    32.000000      19.000000   \n",
      "25%     174.000000   98.000000  67.000000    36.000000      26.000000   \n",
      "50%     181.000000  103.000000  69.000000    39.000000      27.500000   \n",
      "75%     192.000000  110.000000  72.000000    42.000000      30.000000   \n",
      "max     219.000000  119.000000  78.000000    45.000000      36.000000   \n",
      "\n",
      "        Luggage.room       Weight  Origin           Make  \n",
      "count      74.000000    86.000000      88             90  \n",
      "unique           NaN          NaN       2             90  \n",
      "top              NaN          NaN     USA  Acura Integra  \n",
      "freq             NaN          NaN      46              1  \n",
      "mean       13.986486  3104.593023     NaN            NaN  \n",
      "std         3.120824   600.129993     NaN            NaN  \n",
      "min         6.000000  1695.000000     NaN            NaN  \n",
      "25%        12.000000  2647.500000     NaN            NaN  \n",
      "50%        14.000000  3085.000000     NaN            NaN  \n",
      "75%        16.000000  3567.500000     NaN            NaN  \n",
      "max        22.000000  4105.000000     NaN            NaN  \n",
      "\n",
      "[11 rows x 27 columns]\n",
      "[['Acura', 'Integra', 'Small', 12.9, 15.9, 18.8, 25.0, 31.0, nan, 'Front', '4', 1.8, 140.0, 6300.0, 2890.0, 'Yes', 13.2, 5.0, 177.0, 102.0, 68.0, 37.0, 26.5, nan, 2705.0, 'non-USA', 'Acura Integra'], [nan, 'Legend', 'Midsize', 29.2, 33.9, 38.7, 18.0, 25.0, 'Driver & Passenger', 'Front', '6', 3.2, 200.0, 5500.0, 2335.0, 'Yes', 18.0, 5.0, 195.0, 115.0, 71.0, 38.0, 30.0, 15.0, 3560.0, 'non-USA', 'Acura Legend'], ['Audi', '90', 'Compact', 25.9, 29.1, 32.3, 20.0, 26.0, 'Driver only', 'Front', '6', 2.8, 172.0, 5500.0, 2280.0, 'Yes', 16.9, 5.0, 180.0, 102.0, 67.0, 37.0, 28.0, 14.0, 3375.0, 'non-USA', 'Audi 90'], ['Audi', '100', 'Midsize', nan, 37.7, 44.6, 19.0, 26.0, 'Driver & Passenger', nan, '6', nan, 172.0, 5500.0, 2535.0, nan, 21.1, 6.0, 193.0, 106.0, nan, 37.0, 31.0, 17.0, 3405.0, 'non-USA', 'Audi 100'], ['BMW', '535i', 'Midsize', nan, 30.0, nan, 22.0, 30.0, nan, 'Rear', '4', 3.5, 208.0, 5700.0, 2545.0, 'Yes', 21.1, 4.0, 186.0, 109.0, 69.0, 39.0, 27.0, 13.0, 3640.0, 'non-USA', 'BMW 535i'], ['Buick', 'Century', 'Midsize', 14.2, 15.7, 17.3, 22.0, 31.0, 'Driver only', nan, '4', 2.2, 110.0, 5200.0, 2565.0, 'No', 16.4, 6.0, 189.0, 105.0, 69.0, 41.0, 28.0, 16.0, nan, 'USA', 'Buick Century'], ['Buick', 'LeSabre', 'Large', 19.9, 20.8, nan, 19.0, 28.0, 'Driver only', 'Front', '6', 3.8, 170.0, 4800.0, nan, 'No', nan, 6.0, 200.0, 111.0, 74.0, 42.0, 30.5, 17.0, 3470.0, 'USA', 'Buick LeSabre'], ['Buick', 'Roadmaster', 'Large', 22.6, 23.7, 24.9, 16.0, 25.0, 'Driver only', 'Rear', '6', 5.7, 180.0, 4000.0, 1320.0, 'No', 23.0, 6.0, 216.0, 116.0, 78.0, 45.0, 30.5, 21.0, 4105.0, 'USA', 'Buick Roadmaster'], ['Buick', 'Riviera', 'Midsize', 26.3, 26.3, 26.3, 19.0, 27.0, 'Driver only', 'Front', '6', 3.8, 170.0, 4800.0, 1690.0, 'No', 18.8, 5.0, 198.0, 108.0, nan, 41.0, 26.5, 14.0, 3495.0, 'USA', 'Buick Riviera'], ['Cadillac', 'DeVille', 'Large', 33.0, 34.7, 36.3, 16.0, 25.0, 'Driver only', 'Front', '8', 4.9, 200.0, 4100.0, nan, 'No', 18.0, 6.0, 206.0, 114.0, 73.0, 43.0, 35.0, 18.0, 3620.0, 'USA', 'Cadillac DeVille']]\n"
     ]
    }
   ],
   "source": [
    "df = pd.read_csv('https://raw.githubusercontent.com/selva86/datasets/master/Cars93_miss.csv')\n",
    "cnt_rows, cnt_cols = df.shape\n",
    "\n",
    "np_arr = df.to_numpy().tolist()\n",
    "\n",
    "print(cnt_rows)\n",
    "print(cnt_cols)\n",
    "print(df.dtypes[:10])\n",
    "print(df.describe(include='all'))\n",
    "print(np_arr[:10])\n"
   ]
  },
  {
   "cell_type": "markdown",
   "id": "a4b2b746-5a88-4ec6-a207-45b909a674dc",
   "metadata": {},
   "source": [
    "# Задание 37"
   ]
  },
  {
   "cell_type": "code",
   "execution_count": 62,
   "id": "be898ec4-a924-491c-a9ab-afd92967ac0f",
   "metadata": {},
   "outputs": [
    {
     "name": "stdout",
     "output_type": "stream",
     "text": [
      "Manufacturer: Mercedes-Benz, Model: 300E, Type: Midsize\n",
      "Row number: 58, Column number: 4\n"
     ]
    }
   ],
   "source": [
    "df = pd.read_csv('https://raw.githubusercontent.com/selva86/datasets/master/Cars93_miss.csv')\n",
    "max_price_row = df['Price'].idxmax()\n",
    "manufacturer = df.at[max_price_row, 'Manufacturer']\n",
    "model = df.at[max_price_row, 'Model']\n",
    "type = df.at[max_price_row, 'Type']\n",
    "price_col_num = df.columns.get_loc('Price')\n",
    "print(f\"Manufacturer: {manufacturer}, Model: {model}, Type: {type}\")\n",
    "print(f\"Row number: {max_price_row}, Column number: {price_col_num}\")"
   ]
  },
  {
   "cell_type": "markdown",
   "id": "f1d3bf5f-4291-4a0c-a8e9-7245d0655d8a",
   "metadata": {},
   "source": [
    "# Задание 38"
   ]
  },
  {
   "cell_type": "code",
   "execution_count": 32,
   "id": "e9e4a553-cd32-4b76-b0da-8419afdc2e45",
   "metadata": {},
   "outputs": [
    {
     "name": "stdout",
     "output_type": "stream",
     "text": [
      "Index(['Manufacturer', 'Model', 'Type', 'Min.Price', 'Price', 'Max.Price',\n",
      "       'MPG.city', 'MPG.highway', 'AirBags', 'DriveTrain', 'Cylinders',\n",
      "       'EngineSize', 'Horsepower', 'RPM', 'Rev.per.mile', 'Man.trans.avail',\n",
      "       'Fuel.tank.capacity', 'Passengers', 'Length', 'Wheelbase', 'Width',\n",
      "       'Turn.circle', 'Rear.seat.room', 'Luggage.room', 'Weight', 'Origin',\n",
      "       'Make'],\n",
      "      dtype='object')\n",
      "Index(['Manufacturer', 'Model', 'CarType', 'Min_Price', 'Price', 'Max_Price',\n",
      "       'MPG_city', 'MPG_highway', 'AirBags', 'DriveTrain', 'Cylinders',\n",
      "       'EngineSize', 'Horsepower', 'RPM', 'Rev_per_mile', 'Man_trans_avail',\n",
      "       'Fuel_tank_capacity', 'Passengers', 'Length', 'Wheelbase', 'Width',\n",
      "       'Turn_circle', 'Rear_seat_room', 'Luggage_room', 'Weight', 'Origin',\n",
      "       'Make'],\n",
      "      dtype='object')\n"
     ]
    }
   ],
   "source": [
    "df = pd.read_csv('https://raw.githubusercontent.com/selva86/datasets/master/Cars93_miss.csv')\n",
    "print(df.columns)\n",
    "df.rename(columns={'Type':'CarType'}, inplace=True)\n",
    "df.columns = df.columns.str.replace('.','_')\n",
    "print(df.columns)"
   ]
  },
  {
   "cell_type": "markdown",
   "id": "97d72d87-265e-4a1f-b7c1-216799f44276",
   "metadata": {},
   "source": [
    "# Задание 39"
   ]
  },
  {
   "cell_type": "code",
   "execution_count": 36,
   "id": "3a85efe2-f845-4904-961f-04cc39251fc4",
   "metadata": {},
   "outputs": [
    {
     "name": "stdout",
     "output_type": "stream",
     "text": [
      "170\n"
     ]
    }
   ],
   "source": [
    "df = pd.read_csv('https://raw.githubusercontent.com/selva86/datasets/master/Cars93_miss.csv')\n",
    "print(df.isnull().sum().sum())"
   ]
  },
  {
   "cell_type": "markdown",
   "id": "78e4dd14-a158-45d5-9583-f33f2cefc913",
   "metadata": {},
   "source": [
    "# Задание 40"
   ]
  },
  {
   "cell_type": "code",
   "execution_count": 41,
   "id": "a9f2c410-a904-486b-89bc-fad5f889bfa9",
   "metadata": {},
   "outputs": [
    {
     "name": "stdout",
     "output_type": "stream",
     "text": [
      "Manufacturer           4\n",
      "Model                  1\n",
      "Type                   3\n",
      "Min.Price              7\n",
      "Price                  2\n",
      "Max.Price              5\n",
      "MPG.city               9\n",
      "MPG.highway            2\n",
      "AirBags               38\n",
      "DriveTrain             7\n",
      "Cylinders              5\n",
      "EngineSize             2\n",
      "Horsepower             7\n",
      "RPM                    3\n",
      "Rev.per.mile           6\n",
      "Man.trans.avail        5\n",
      "Fuel.tank.capacity     8\n",
      "Passengers             2\n",
      "Length                 4\n",
      "Wheelbase              1\n",
      "Width                  6\n",
      "Turn.circle            5\n",
      "Rear.seat.room         4\n",
      "Luggage.room          19\n",
      "Weight                 7\n",
      "Origin                 5\n",
      "Make                   3\n",
      "dtype: int64\n",
      "AirBags 38\n"
     ]
    }
   ],
   "source": [
    "df = pd.read_csv('https://raw.githubusercontent.com/selva86/datasets/master/Cars93_miss.csv')\n",
    "print(df.isnull().sum())\n",
    "print(df.isnull().sum().idxmax(), df.isnull().sum().max())"
   ]
  },
  {
   "cell_type": "markdown",
   "id": "003c855a-f75e-44b5-b3af-beb17156381d",
   "metadata": {},
   "source": [
    "# Задание 41"
   ]
  },
  {
   "cell_type": "code",
   "execution_count": 43,
   "id": "6747d7b0-d040-4abc-95a9-d7083a06f1ad",
   "metadata": {},
   "outputs": [
    {
     "name": "stdout",
     "output_type": "stream",
     "text": [
      "   Manufacturer    Model     Type  Min.Price  Price  Max.Price  MPG.city  \\\n",
      "0         Acura  Integra    Small  12.900000   15.9  18.800000      25.0   \n",
      "1           NaN   Legend  Midsize  29.200000   33.9  38.700000      18.0   \n",
      "2          Audi       90  Compact  25.900000   29.1  32.300000      20.0   \n",
      "3          Audi      100  Midsize  17.118605   37.7  44.600000      19.0   \n",
      "4           BMW     535i  Midsize  17.118605   30.0  21.459091      22.0   \n",
      "..          ...      ...      ...        ...    ...        ...       ...   \n",
      "88   Volkswagen  Eurovan      Van  16.600000   19.7  22.700000      17.0   \n",
      "89   Volkswagen   Passat  Compact  17.600000   20.0  22.400000      21.0   \n",
      "90   Volkswagen  Corrado   Sporty  22.900000   23.3  23.700000      18.0   \n",
      "91        Volvo      240  Compact  21.800000   22.7  23.500000      21.0   \n",
      "92          NaN      850  Midsize  24.800000   26.7  28.500000      20.0   \n",
      "\n",
      "    MPG.highway             AirBags DriveTrain  ... Passengers  Length  \\\n",
      "0          31.0                 NaN      Front  ...        5.0   177.0   \n",
      "1          25.0  Driver & Passenger      Front  ...        5.0   195.0   \n",
      "2          26.0         Driver only      Front  ...        5.0   180.0   \n",
      "3          26.0  Driver & Passenger        NaN  ...        6.0   193.0   \n",
      "4          30.0                 NaN       Rear  ...        4.0   186.0   \n",
      "..          ...                 ...        ...  ...        ...     ...   \n",
      "88         21.0                 NaN      Front  ...        7.0   187.0   \n",
      "89         30.0                 NaN      Front  ...        5.0   180.0   \n",
      "90         25.0                 NaN      Front  ...        4.0   159.0   \n",
      "91         28.0         Driver only       Rear  ...        5.0   190.0   \n",
      "92         28.0  Driver & Passenger      Front  ...        5.0   184.0   \n",
      "\n",
      "    Wheelbase  Width  Turn.circle Rear.seat.room  Luggage.room  Weight  \\\n",
      "0       102.0   68.0         37.0           26.5           NaN  2705.0   \n",
      "1       115.0   71.0         38.0           30.0          15.0  3560.0   \n",
      "2       102.0   67.0         37.0           28.0          14.0  3375.0   \n",
      "3       106.0    NaN         37.0           31.0          17.0  3405.0   \n",
      "4       109.0   69.0         39.0           27.0          13.0  3640.0   \n",
      "..        ...    ...          ...            ...           ...     ...   \n",
      "88      115.0   72.0         38.0           34.0           NaN  3960.0   \n",
      "89      103.0   67.0         35.0           31.5          14.0  2985.0   \n",
      "90       97.0   66.0         36.0           26.0          15.0  2810.0   \n",
      "91      104.0   67.0         37.0           29.5          14.0  2985.0   \n",
      "92      105.0   69.0         38.0           30.0          15.0  3245.0   \n",
      "\n",
      "     Origin                Make  \n",
      "0   non-USA       Acura Integra  \n",
      "1   non-USA        Acura Legend  \n",
      "2   non-USA             Audi 90  \n",
      "3   non-USA            Audi 100  \n",
      "4   non-USA            BMW 535i  \n",
      "..      ...                 ...  \n",
      "88      NaN  Volkswagen Eurovan  \n",
      "89  non-USA   Volkswagen Passat  \n",
      "90  non-USA  Volkswagen Corrado  \n",
      "91  non-USA           Volvo 240  \n",
      "92  non-USA           Volvo 850  \n",
      "\n",
      "[93 rows x 27 columns]\n"
     ]
    },
    {
     "name": "stderr",
     "output_type": "stream",
     "text": [
      "/var/folders/cw/fvky6lcd1fq2kp8_tfxlc3hw0000gn/T/ipykernel_78084/1676155840.py:4: FutureWarning: A value is trying to be set on a copy of a DataFrame or Series through chained assignment using an inplace method.\n",
      "The behavior will change in pandas 3.0. This inplace method will never work because the intermediate object on which we are setting values always behaves as a copy.\n",
      "\n",
      "For example, when doing 'df[col].method(value, inplace=True)', try using 'df.method({col: value}, inplace=True)' or df[col] = df[col].method(value) instead, to perform the operation inplace on the original object.\n",
      "\n",
      "\n",
      "  df['Min.Price'].fillna(mean_min_pr, inplace=True)\n",
      "/var/folders/cw/fvky6lcd1fq2kp8_tfxlc3hw0000gn/T/ipykernel_78084/1676155840.py:5: FutureWarning: A value is trying to be set on a copy of a DataFrame or Series through chained assignment using an inplace method.\n",
      "The behavior will change in pandas 3.0. This inplace method will never work because the intermediate object on which we are setting values always behaves as a copy.\n",
      "\n",
      "For example, when doing 'df[col].method(value, inplace=True)', try using 'df.method({col: value}, inplace=True)' or df[col] = df[col].method(value) instead, to perform the operation inplace on the original object.\n",
      "\n",
      "\n",
      "  df['Max.Price'].fillna(mean_max_pr, inplace=True)\n"
     ]
    }
   ],
   "source": [
    "df = pd.read_csv('https://raw.githubusercontent.com/selva86/datasets/master/Cars93_miss.csv')\n",
    "mean_min_pr = df['Min.Price'].mean()\n",
    "mean_max_pr = df['Max.Price'].mean()\n",
    "df['Min.Price'].fillna(mean_min_pr, inplace=True)\n",
    "df['Max.Price'].fillna(mean_max_pr, inplace=True)\n",
    "print(df)"
   ]
  },
  {
   "cell_type": "markdown",
   "id": "7003faa7-8297-4910-88b7-b77e03a32e09",
   "metadata": {},
   "source": [
    "# Задание 42"
   ]
  },
  {
   "cell_type": "code",
   "execution_count": 47,
   "id": "29f2e046-9224-4b4d-975f-cefb369e4cbf",
   "metadata": {},
   "outputs": [
    {
     "name": "stdout",
     "output_type": "stream",
     "text": [
      "   Manufacturer    Model     Type  Min.Price  Price  Max.Price  MPG.city  \\\n",
      "0         Acura  Integra    Small  12.900000   15.9      18.80      25.0   \n",
      "1           NaN   Legend  Midsize  29.200000   33.9      38.70      18.0   \n",
      "2          Audi       90  Compact  25.900000   29.1      32.30      20.0   \n",
      "3          Audi      100  Midsize  17.118605   37.7      44.60      19.0   \n",
      "4           BMW     535i  Midsize  17.118605   30.0      19.15      22.0   \n",
      "..          ...      ...      ...        ...    ...        ...       ...   \n",
      "88   Volkswagen  Eurovan      Van  16.600000   19.7      22.70      17.0   \n",
      "89   Volkswagen   Passat  Compact  17.600000   20.0      22.40      21.0   \n",
      "90   Volkswagen  Corrado   Sporty  22.900000   23.3      23.70      18.0   \n",
      "91        Volvo      240  Compact  21.800000   22.7      23.50      21.0   \n",
      "92          NaN      850  Midsize  24.800000   26.7      28.50      20.0   \n",
      "\n",
      "    MPG.highway             AirBags DriveTrain  ... Passengers  Length  \\\n",
      "0          31.0                 NaN      Front  ...        5.0   177.0   \n",
      "1          25.0  Driver & Passenger      Front  ...        5.0   195.0   \n",
      "2          26.0         Driver only      Front  ...        5.0   180.0   \n",
      "3          26.0  Driver & Passenger        NaN  ...        6.0   193.0   \n",
      "4          30.0                 NaN       Rear  ...        4.0   186.0   \n",
      "..          ...                 ...        ...  ...        ...     ...   \n",
      "88         21.0                 NaN      Front  ...        7.0   187.0   \n",
      "89         30.0                 NaN      Front  ...        5.0   180.0   \n",
      "90         25.0                 NaN      Front  ...        4.0   159.0   \n",
      "91         28.0         Driver only       Rear  ...        5.0   190.0   \n",
      "92         28.0  Driver & Passenger      Front  ...        5.0   184.0   \n",
      "\n",
      "    Wheelbase  Width  Turn.circle Rear.seat.room  Luggage.room  Weight  \\\n",
      "0       102.0   68.0         37.0           26.5           NaN  2705.0   \n",
      "1       115.0   71.0         38.0           30.0          15.0  3560.0   \n",
      "2       102.0   67.0         37.0           28.0          14.0  3375.0   \n",
      "3       106.0    NaN         37.0           31.0          17.0  3405.0   \n",
      "4       109.0   69.0         39.0           27.0          13.0  3640.0   \n",
      "..        ...    ...          ...            ...           ...     ...   \n",
      "88      115.0   72.0         38.0           34.0           NaN  3960.0   \n",
      "89      103.0   67.0         35.0           31.5          14.0  2985.0   \n",
      "90       97.0   66.0         36.0           26.0          15.0  2810.0   \n",
      "91      104.0   67.0         37.0           29.5          14.0  2985.0   \n",
      "92      105.0   69.0         38.0           30.0          15.0  3245.0   \n",
      "\n",
      "     Origin                Make  \n",
      "0   non-USA       Acura Integra  \n",
      "1   non-USA        Acura Legend  \n",
      "2   non-USA             Audi 90  \n",
      "3   non-USA            Audi 100  \n",
      "4   non-USA            BMW 535i  \n",
      "..      ...                 ...  \n",
      "88      NaN  Volkswagen Eurovan  \n",
      "89  non-USA   Volkswagen Passat  \n",
      "90  non-USA  Volkswagen Corrado  \n",
      "91  non-USA           Volvo 240  \n",
      "92  non-USA           Volvo 850  \n",
      "\n",
      "[93 rows x 27 columns]\n"
     ]
    }
   ],
   "source": [
    "df = pd.read_csv('https://raw.githubusercontent.com/selva86/datasets/master/Cars93_miss.csv')\n",
    "\n",
    "\n",
    "def missing(row, col1_mean, col2_median):\n",
    "    if pd.isnull(row['Min.Price']):\n",
    "        row['Min.Price'] = col1_mean\n",
    "    if pd.isnull(row['Max.Price']):\n",
    "        row['Max.Price'] = col2_median\n",
    "    return row\n",
    "\n",
    "\n",
    "min_pr_mean = df['Min.Price'].mean()\n",
    "max_pr_median = df['Max.Price'].median()\n",
    "\n",
    "df = df.apply(missing, axis=1, args=(min_pr_mean, max_pr_median))\n",
    "print(df) "
   ]
  },
  {
   "cell_type": "markdown",
   "id": "50a153ec-fb77-446a-b520-28b749f4c0a1",
   "metadata": {},
   "source": [
    "# Задание 43"
   ]
  },
  {
   "cell_type": "code",
   "execution_count": 54,
   "id": "6aca442d-7f19-4985-b3d4-35b8bee41612",
   "metadata": {},
   "outputs": [
    {
     "name": "stdout",
     "output_type": "stream",
     "text": [
      "    a   b   c   d   e\n",
      "0   0   1   2   3   4\n",
      "1   5   6   7   8   9\n",
      "2  10  11  12  13  14\n",
      "3  15  16  17  18  19\n",
      "    a\n",
      "0   0\n",
      "1   5\n",
      "2  10\n",
      "3  15\n"
     ]
    }
   ],
   "source": [
    "df = pd.DataFrame(np.arange(20).reshape(-1, 5), columns=list('abcde'))\n",
    "print(df)\n",
    "print(df[['a']])"
   ]
  },
  {
   "cell_type": "markdown",
   "id": "9c8c6f58-1f66-4a4c-bd46-748c0346f727",
   "metadata": {},
   "source": [
    "# Задание 44"
   ]
  },
  {
   "cell_type": "code",
   "execution_count": 59,
   "id": "38f8d13e-6d56-4a5a-ba87-6bf7cae57fb0",
   "metadata": {},
   "outputs": [
    {
     "name": "stdout",
     "output_type": "stream",
     "text": [
      "    a   b   c   d   e\n",
      "0   0   1   2   3   4\n",
      "1   5   6   7   8   9\n",
      "2  10  11  12  13  14\n",
      "3  15  16  17  18  19\n",
      "    a   b   c   d   e\n",
      "0   2   1   0   3   4\n",
      "1   7   6   5   8   9\n",
      "2  12  11  10  13  14\n",
      "3  17  16  15  18  19\n",
      "    a   b   c   d   e\n",
      "0   0   1   2   3   4\n",
      "1   5   6   7   8   9\n",
      "2  10  11  12  13  14\n",
      "3  15  16  17  18  19\n",
      "    e   d   c   b   a\n",
      "0   4   3   2   1   0\n",
      "1   9   8   7   6   5\n",
      "2  14  13  12  11  10\n",
      "3  19  18  17  16  15\n"
     ]
    }
   ],
   "source": [
    "df = pd.DataFrame(np.arange(20).reshape(-1, 5), columns=list('abcde'))\n",
    "print(df)\n",
    "df[['a','c']] = df[['c','a']]\n",
    "print(df)\n",
    "\n",
    "def swap_cols(df, col1, col2):\n",
    "    df[[col1,col2]] = df[[col2,col1]]\n",
    "\n",
    "swap_cols(df,'a','c')\n",
    "print(df)\n",
    "\n",
    "df = df.reindex(columns=sorted(df.columns, reverse=True))\n",
    "print(df)"
   ]
  },
  {
   "cell_type": "markdown",
   "id": "7f122db8-e38a-44e7-927b-6462361c9660",
   "metadata": {},
   "source": [
    "# Задание 45"
   ]
  },
  {
   "cell_type": "code",
   "execution_count": 63,
   "id": "c1f9cce7-a6e1-4420-88d3-28caab90ff67",
   "metadata": {},
   "outputs": [
    {
     "name": "stdout",
     "output_type": "stream",
     "text": [
      "  Manufacturer       Model     Type  Min.Price  Price  Max.Price  MPG.city  \\\n",
      "0        Acura     Integra    Small       12.9   15.9       18.8      25.0   \n",
      "1          NaN      Legend  Midsize       29.2   33.9       38.7      18.0   \n",
      "2         Audi          90  Compact       25.9   29.1       32.3      20.0   \n",
      "3         Audi         100  Midsize        NaN   37.7       44.6      19.0   \n",
      "4          BMW        535i  Midsize        NaN   30.0        NaN      22.0   \n",
      "5        Buick     Century  Midsize       14.2   15.7       17.3      22.0   \n",
      "6        Buick     LeSabre    Large       19.9   20.8        NaN      19.0   \n",
      "7        Buick  Roadmaster    Large       22.6   23.7       24.9      16.0   \n",
      "8        Buick     Riviera  Midsize       26.3   26.3       26.3      19.0   \n",
      "9     Cadillac     DeVille    Large       33.0   34.7       36.3      16.0   \n",
      "\n",
      "   MPG.highway             AirBags DriveTrain  \n",
      "0         31.0                 NaN      Front  \n",
      "1         25.0  Driver & Passenger      Front  \n",
      "2         26.0         Driver only      Front  \n",
      "3         26.0  Driver & Passenger        NaN  \n",
      "4         30.0                 NaN       Rear  \n",
      "5         31.0         Driver only        NaN  \n",
      "6         28.0         Driver only      Front  \n",
      "7         25.0         Driver only       Rear  \n",
      "8         27.0         Driver only      Front  \n",
      "9         25.0         Driver only      Front  \n"
     ]
    }
   ],
   "source": [
    "df = pd.read_csv('https://raw.githubusercontent.com/selva86/datasets/master/Cars93_miss.csv')\n",
    "print(df.iloc[:10, :10])"
   ]
  },
  {
   "cell_type": "markdown",
   "id": "0d7bd314-1350-4181-82d6-1c18fd028f91",
   "metadata": {},
   "source": [
    "# Задание 46"
   ]
  },
  {
   "cell_type": "code",
   "execution_count": 67,
   "id": "aece0313-d517-4e3c-be1f-ce8b3ccd092b",
   "metadata": {},
   "outputs": [
    {
     "name": "stdout",
     "output_type": "stream",
     "text": [
      "   random\n",
      "0  0.0020\n",
      "1  0.0000\n",
      "2  0.0007\n",
      "3  0.0631\n",
      "   random\n",
      "0  0.0020\n",
      "1  0.0000\n",
      "2  0.0007\n",
      "3  0.0631\n"
     ]
    }
   ],
   "source": [
    "df = pd.DataFrame(np.random.random(4)**10, columns=['random'])\n",
    "print(df)\n",
    "pd.options.display.float_format = '{:.4f}'.format\n",
    "print(df)"
   ]
  },
  {
   "cell_type": "markdown",
   "id": "b92ea21b-b2bd-4e25-8a20-6efa3cfa1d22",
   "metadata": {},
   "source": [
    "# Задание 47"
   ]
  },
  {
   "cell_type": "code",
   "execution_count": 74,
   "id": "39d1bcad-a42e-4f77-9a4e-3ad22af330a0",
   "metadata": {},
   "outputs": [
    {
     "name": "stdout",
     "output_type": "stream",
     "text": [
      "   random\n",
      "0  51.54%\n",
      "1  91.14%\n",
      "2  51.10%\n",
      "3   2.74%\n"
     ]
    }
   ],
   "source": [
    "df = pd.DataFrame(np.random.random(4), columns=['random'])\n",
    "df['random'] = df['random'].apply(lambda x: f'{x * 100:.2f}%')\n",
    "print(df)"
   ]
  },
  {
   "cell_type": "markdown",
   "id": "eff049d6-4047-45d0-994c-a11a9f0ff2eb",
   "metadata": {},
   "source": [
    "# Задание 48"
   ]
  },
  {
   "cell_type": "code",
   "execution_count": 78,
   "id": "b920cb6f-2a5b-4582-816c-3fe132f73bb6",
   "metadata": {},
   "outputs": [
    {
     "name": "stdout",
     "output_type": "stream",
     "text": [
      "   Manufacturer    Model     Type\n",
      "0         Acura  Integra    Small\n",
      "20     Chrysler  LeBaron  Compact\n",
      "40        Honda  Prelude   Sporty\n",
      "60      Mercury   Cougar  Midsize\n",
      "80       Subaru   Loyale    Small\n"
     ]
    }
   ],
   "source": [
    "df = pd.read_csv('https://raw.githubusercontent.com/selva86/datasets/master/Cars93_miss.csv')\n",
    "print(df.iloc[::20][['Manufacturer', 'Model', 'Type']])"
   ]
  },
  {
   "cell_type": "markdown",
   "id": "e27da058-e38f-457a-b94f-979b538eecdd",
   "metadata": {},
   "source": [
    "# Задание 49"
   ]
  },
  {
   "cell_type": "code",
   "execution_count": 79,
   "id": "ed08fd71-5b0f-4468-ae1d-d4ef12b39f39",
   "metadata": {},
   "outputs": [
    {
     "name": "stdout",
     "output_type": "stream",
     "text": [
      "                          Manufacturer    Model     Type  Min.Price  Max.Price\n",
      "index                                                                         \n",
      "Acura_Integra_Small              Acura  Integra    Small    12.9000    18.8000\n",
      "missing_Legend_Midsize         missing   Legend  Midsize    29.2000    38.7000\n",
      "Audi_90_Compact                   Audi       90  Compact    25.9000    32.3000\n",
      "Audi_100_Midsize                  Audi      100  Midsize        NaN    44.6000\n",
      "BMW_535i_Midsize                   BMW     535i  Midsize        NaN        NaN\n",
      "...                                ...      ...      ...        ...        ...\n",
      "Volkswagen_Eurovan_Van      Volkswagen  Eurovan      Van    16.6000    22.7000\n",
      "Volkswagen_Passat_Compact   Volkswagen   Passat  Compact    17.6000    22.4000\n",
      "Volkswagen_Corrado_Sporty   Volkswagen  Corrado   Sporty    22.9000    23.7000\n",
      "Volvo_240_Compact                Volvo      240  Compact    21.8000    23.5000\n",
      "missing_850_Midsize            missing      850  Midsize    24.8000    28.5000\n",
      "\n",
      "[93 rows x 5 columns]\n",
      "True\n"
     ]
    }
   ],
   "source": [
    "df = pd.read_csv('https://raw.githubusercontent.com/selva86/datasets/master/Cars93_miss.csv', usecols=[0,1,2,3,5])\n",
    "\n",
    "df[['Manufacturer', 'Model', 'Type']] = df[['Manufacturer', 'Model', 'Type']].fillna('missing')\n",
    "df['index'] = df['Manufacturer'] + '_' + df['Model'] + '_' + df['Type']\n",
    "\n",
    "df.set_index('index', inplace=True)\n",
    "is_primary_key = df.index.is_unique\n",
    "\n",
    "print(df)\n",
    "print(is_primary_key)"
   ]
  },
  {
   "cell_type": "markdown",
   "id": "c7687057-2e24-49ee-a8ff-d6a004216d45",
   "metadata": {},
   "source": [
    "# Задание 50"
   ]
  },
  {
   "cell_type": "code",
   "execution_count": 199,
   "id": "9e1882e5-1436-4b36-a136-34fffe1aa200",
   "metadata": {},
   "outputs": [
    {
     "name": "stdout",
     "output_type": "stream",
     "text": [
      "    a   b   c\n",
      "0  17  20   7\n",
      "1  28  28  16\n",
      "2  11  12  16\n",
      "3  18  24  29\n",
      "4  19  18  10\n",
      "5   8  25  22\n",
      "6   1  24  23\n",
      "7  27  13   1\n",
      "8  11  14  19\n",
      "9   6  17  26\n",
      "0\n"
     ]
    }
   ],
   "source": [
    "df = pd.DataFrame(np.random.randint(1, 30, 30).reshape(10,-1), columns=list('abc'))\n",
    "print(df)\n",
    "print(df['a'].nlargest(5).index[-1])"
   ]
  },
  {
   "cell_type": "markdown",
   "id": "a8ef27a5-7f79-4582-b6bc-092025b02ea5",
   "metadata": {},
   "source": [
    "# Задание 51"
   ]
  },
  {
   "cell_type": "code",
   "execution_count": 197,
   "id": "7600d50c-d67e-4007-a4d5-0772ed48e298",
   "metadata": {},
   "outputs": [
    {
     "name": "stdout",
     "output_type": "stream",
     "text": [
      "0      2\n",
      "1     65\n",
      "2     93\n",
      "3     75\n",
      "4     69\n",
      "5     92\n",
      "6     27\n",
      "7      1\n",
      "8     48\n",
      "9      9\n",
      "10    43\n",
      "11    27\n",
      "12    98\n",
      "13    94\n",
      "14    17\n",
      "dtype: int64\n",
      "13\n"
     ]
    }
   ],
   "source": [
    "ser = pd.Series(np.random.randint(1, 100, 15))\n",
    "print(ser)\n",
    "print(ser[ser > ser.mean()].nlargest(2).index[-1])"
   ]
  },
  {
   "cell_type": "markdown",
   "id": "c4156fbd-c819-4d2e-b5ed-f8f84627725b",
   "metadata": {},
   "source": [
    "# Задание 52"
   ]
  },
  {
   "cell_type": "code",
   "execution_count": 94,
   "id": "9ea99798-ef30-47d8-ac43-1c7c7cb8a58e",
   "metadata": {},
   "outputs": [
    {
     "name": "stdout",
     "output_type": "stream",
     "text": [
      "     0   1   2   3\n",
      "13  18  38  19  37\n"
     ]
    },
    {
     "name": "stderr",
     "output_type": "stream",
     "text": [
      "/var/folders/cw/fvky6lcd1fq2kp8_tfxlc3hw0000gn/T/ipykernel_78084/4107166136.py:2: UserWarning: Boolean Series key will be reindexed to match DataFrame index.\n",
      "  print(df[-2:][df.sum(axis=1) > 100])\n"
     ]
    }
   ],
   "source": [
    "df = pd.DataFrame(np.random.randint(10, 40, 60).reshape(-1, 4))\n",
    "print(df[-2:][df.sum(axis=1) > 100]) \n",
    "# если мы должны брать последние две строки не из общего случая и при выполнении условия\n",
    "# их выводить, то следует поменять [][] местами\n",
    "# тк задание можно трактовать по разному"
   ]
  },
  {
   "cell_type": "markdown",
   "id": "7c49326a-7c1e-40bc-b291-0f38dfc74519",
   "metadata": {},
   "source": [
    "# Задание 53"
   ]
  },
  {
   "cell_type": "code",
   "execution_count": 98,
   "id": "a9ccc0b7-93b1-4b37-915c-bfef36b5b9eb",
   "metadata": {},
   "outputs": [
    {
     "name": "stdout",
     "output_type": "stream",
     "text": [
      "[0.01, 0.01373823795883263, 0.018873918221350976, 0.02592943797404667, 0.035622478902624426, 0.04893900918477494, 0.06723357536499334, 0.09236708571873861, 0.12689610031679222, 0.17433288221999882, 0.2395026619987486, 0.32903445623126676, 0.4520353656360243, 0.6210169418915616, 0.8531678524172805, 1.1721022975334805, 1.6102620275609392, 2.212216291070448, 3.039195382313198, 4.175318936560401, 5.736152510448681, 7.880462815669913, 10.82636733874054, 14.873521072935118, 20.433597178569418, 28.072162039411758, 38.56620421163472, 52.98316906283707, 72.78953843983146, 100.0]\n",
      "[0.016049294076965887, 0.016049294076965887, 0.018873918221350976, 0.02592943797404667, 0.035622478902624426, 0.04893900918477494, 0.06723357536499334, 0.09236708571873861, 0.12689610031679222, 0.17433288221999882, 0.2395026619987486, 0.32903445623126676, 0.4520353656360243, 0.6210169418915616, 0.8531678524172805, 1.1721022975334805, 1.6102620275609392, 2.212216291070448, 3.039195382313198, 4.175318936560401, 5.736152510448681, 7.880462815669913, 10.82636733874054, 14.873521072935118, 20.433597178569418, 28.072162039411758, 38.56620421163472, 52.98316906283707, 63.87667222018393, 63.87667222018393]\n"
     ]
    }
   ],
   "source": [
    "ser = pd.Series(np.logspace(-2, 2, 30))\n",
    "print(ser.to_list())\n",
    "print(ser.clip(lower=np.percentile(ser, 5), upper=np.percentile(ser, 95)).to_list())"
   ]
  },
  {
   "cell_type": "markdown",
   "id": "e4d8f8d2-85e6-4687-a2bb-4f7c58f2150b",
   "metadata": {},
   "source": [
    "# Задание 54"
   ]
  },
  {
   "cell_type": "code",
   "execution_count": 102,
   "id": "b69f3f86-0dab-45a0-9fed-7b16817afa99",
   "metadata": {},
   "outputs": [
    {
     "name": "stdout",
     "output_type": "stream",
     "text": [
      "        0       1       2       3       4       5       6       7\n",
      "0 41.0000 19.0000  2.0000 46.0000 28.0000 22.0000 12.0000  1.0000\n",
      "1 35.0000  1.0000 17.0000  2.0000 19.0000 23.0000 39.0000 16.0000\n",
      "2 33.0000  4.0000 33.0000 46.0000 17.0000 23.0000 32.0000 48.0000\n",
      "3  9.0000 47.0000  9.0000 48.0000 10.0000 25.0000 35.0000 30.0000\n",
      "4 45.0000 20.0000 43.0000 24.0000 32.0000 13.0000 22.0000 26.0000\n",
      "5 38.0000 27.0000 35.0000 35.0000 22.0000 48.0000  5.0000  4.0000\n",
      "6 37.0000 18.0000  3.0000 21.0000 10.0000 34.0000 39.0000  0.0000\n",
      "7 40.0000 29.0000  4.0000  9.0000 27.0000 34.0000 34.0000  2.0000\n"
     ]
    }
   ],
   "source": [
    "df = pd.DataFrame(np.random.randint(-20, 50, 100).reshape(10, -1))\n",
    "\n",
    "\n",
    "df = df[df >= 0].dropna(how='all')\n",
    "pos_vals = df.values[df >= 0].flatten()\n",
    "\n",
    "n = int(np.sqrt(len(pos_vals)))\n",
    "\n",
    "pos_vals = pos_vals[:n * n]\n",
    "\n",
    "square_df = pd.DataFrame(pos_vals.reshape(n, n))\n",
    "print(square_df)"
   ]
  },
  {
   "cell_type": "markdown",
   "id": "d06bf08f-3222-45a9-8a80-32882a75ff85",
   "metadata": {},
   "source": [
    "# Задание 55"
   ]
  },
  {
   "cell_type": "code",
   "execution_count": 103,
   "id": "c02508b0-55f3-46ac-bf82-a906e5849310",
   "metadata": {},
   "outputs": [
    {
     "name": "stdout",
     "output_type": "stream",
     "text": [
      "    0   1   2   3   4\n",
      "0   0   1   2   3   4\n",
      "1   5   6   7   8   9\n",
      "2  10  11  12  13  14\n",
      "3  15  16  17  18  19\n",
      "4  20  21  22  23  24\n",
      "    0   1   2   3   4\n",
      "0   0   1   2   3   4\n",
      "1  10  11  12  13  14\n",
      "2   5   6   7   8   9\n",
      "3  15  16  17  18  19\n",
      "4  20  21  22  23  24\n"
     ]
    }
   ],
   "source": [
    "df = pd.DataFrame(np.arange(25).reshape(5, -1))\n",
    "print(df)\n",
    "\n",
    "df.iloc[[1, 2]] = df.iloc[[2, 1]].values\n",
    "print(df)\n"
   ]
  },
  {
   "cell_type": "markdown",
   "id": "1b536486-f490-4a4f-83ee-d9fd59459f6e",
   "metadata": {},
   "source": [
    "# Задание 56"
   ]
  },
  {
   "cell_type": "code",
   "execution_count": 105,
   "id": "94270025-6fca-4855-a599-8a56faf39825",
   "metadata": {},
   "outputs": [
    {
     "name": "stdout",
     "output_type": "stream",
     "text": [
      "    0   1   2   3   4\n",
      "0  20  21  22  23  24\n",
      "1  15  16  17  18  19\n",
      "2  10  11  12  13  14\n",
      "3   5   6   7   8   9\n",
      "4   0   1   2   3   4\n"
     ]
    }
   ],
   "source": [
    "df = pd.DataFrame(np.arange(25).reshape(5, -1))\n",
    "print(df.iloc[::-1].reset_index(drop=True))"
   ]
  },
  {
   "cell_type": "markdown",
   "id": "b977154a-5add-47d6-b4ce-2e6f3fe857cf",
   "metadata": {},
   "source": [
    "# Задание 57"
   ]
  },
  {
   "cell_type": "code",
   "execution_count": 113,
   "id": "6551aa10-8e8c-463a-9135-a506ee229570",
   "metadata": {},
   "outputs": [
    {
     "name": "stdout",
     "output_type": "stream",
     "text": [
      "   0  5  10  15  20   b   c   d   e\n",
      "0  1  0   0   0   0   1   2   3   4\n",
      "1  0  1   0   0   0   6   7   8   9\n",
      "2  0  0   1   0   0  11  12  13  14\n",
      "3  0  0   0   1   0  16  17  18  19\n",
      "4  0  0   0   0   1  21  22  23  24\n"
     ]
    }
   ],
   "source": [
    "df = pd.DataFrame(np.arange(25).reshape(5,-1), columns=list('abcde'))\n",
    "\n",
    "binary_columns = pd.get_dummies(df['a'])\n",
    "binary_columns = binary_columns.astype(int)\n",
    "\n",
    "df = pd.concat([binary_columns, df[['b', 'c', 'd', 'e']]], axis=1)\n",
    "print(df)"
   ]
  },
  {
   "cell_type": "markdown",
   "id": "b96d50dd-6c3c-473f-ac64-5e491712141e",
   "metadata": {},
   "source": [
    "# Задание 58"
   ]
  },
  {
   "cell_type": "code",
   "execution_count": 163,
   "id": "c78d80d2-e08c-41ab-b020-a55a6de07d64",
   "metadata": {},
   "outputs": [
    {
     "name": "stdout",
     "output_type": "stream",
     "text": [
      "    0   1   2   3\n",
      "0  14  96  66  44\n",
      "1  36  95  83  80\n",
      "2  63   8  82  75\n",
      "3  86  12  26  11\n",
      "4  90  45  42  26\n",
      "5  92  70  45  97\n",
      "6  82  85  36   4\n",
      "7  87  45  14  83\n",
      "8  60  61  69  69\n",
      "9  13  37  62  72\n",
      "0\n"
     ]
    }
   ],
   "source": [
    "df = pd.DataFrame(np.random.randint(1, 100, 40).reshape(10, -1))\n",
    "print(df)\n",
    "\n",
    "max_cnt = df.apply(lambda x: (x == x.max()).sum())\n",
    "\n",
    "print(max_cnt.idxmax())"
   ]
  },
  {
   "cell_type": "markdown",
   "id": "280c2044-520d-41f1-9a9d-336eb1ae3aa2",
   "metadata": {},
   "source": [
    "# Задание 59"
   ]
  },
  {
   "cell_type": "code",
   "execution_count": 169,
   "id": "cf782abc-9411-476c-a082-118ed8bcd3ff",
   "metadata": {},
   "outputs": [
    {
     "name": "stdout",
     "output_type": "stream",
     "text": [
      "    p   q   r   s nearest_row     dist\n",
      "a   2  85  29  45           b  66.6783\n",
      "b  48  37  24  46           a  66.6783\n",
      "c  48  25  25  28           a  77.5951\n",
      "d  76  25  50  81           a 103.9856\n",
      "e  90  37  10   8           a 108.5265\n",
      "f  47  51  89  40           a  82.4985\n",
      "g  37  74  99  37           a  79.4355\n",
      "h  57  87  84  51           a  78.0385\n",
      "i  84   9  75  36           a 121.2312\n",
      "j  29  92  85  90           a  77.0649\n"
     ]
    },
    {
     "name": "stderr",
     "output_type": "stream",
     "text": [
      "/var/folders/cw/fvky6lcd1fq2kp8_tfxlc3hw0000gn/T/ipykernel_78084/1359325262.py:5: RuntimeWarning: invalid value encountered in multiply\n",
      "  near_rows = np.argmin(distances + np.eye(distances.shape[0]) * np.inf, axis=1)\n"
     ]
    }
   ],
   "source": [
    "df = pd.DataFrame(np.random.randint(1, 100, 40).reshape(10, -1), columns=list('pqrs'), index=list('abcdefghij'))\n",
    "from scipy.spatial.distance import cdist\n",
    "distances = cdist(df, df, metric='euclidean')\n",
    "\n",
    "near_rows = np.argmin(distances + np.eye(distances.shape[0]) * np.inf, axis=1)\n",
    "df['nearest_row'] = df.index[near_rows]\n",
    "df['dist'] = [distances[i, near_rows[i]] for i in range(len(df))]\n",
    "print(df)"
   ]
  },
  {
   "cell_type": "markdown",
   "id": "195a2c00-8f96-48f4-984f-18d64af4e80b",
   "metadata": {},
   "source": [
    "# Задание 60"
   ]
  },
  {
   "cell_type": "code",
   "execution_count": 190,
   "id": "49ba2c17-35da-472d-bbf9-4c5bf5dbc5f0",
   "metadata": {},
   "outputs": [
    {
     "name": "stdout",
     "output_type": "stream",
     "text": [
      "p   0.8047\n",
      "q   0.6011\n",
      "r   0.7516\n",
      "s   0.6602\n",
      "t   0.8047\n",
      "u   0.5862\n",
      "v   0.8176\n",
      "w   0.8176\n",
      "x   0.5862\n",
      "y   0.4374\n",
      "dtype: float64\n"
     ]
    }
   ],
   "source": [
    "df = pd.DataFrame(np.random.randint(1,100, 80).reshape(8, -1), columns=list('pqrstuvwxy'), index=list('abcdefgh'))\n",
    "\n",
    "max_corr = df.corr().abs()\n",
    "np.fill_diagonal(max_corr.values, np.nan)\n",
    "\n",
    "\n",
    "print(max_corr.max())"
   ]
  },
  {
   "cell_type": "markdown",
   "id": "91f21d15-e782-4436-9d7a-d8ef0cfd60e3",
   "metadata": {},
   "source": [
    "# Задание 61"
   ]
  },
  {
   "cell_type": "code",
   "execution_count": 196,
   "id": "aa98d837-2dc6-4386-b7fe-7e11dd22414f",
   "metadata": {},
   "outputs": [
    {
     "name": "stdout",
     "output_type": "stream",
     "text": [
      "   mn  mx\n",
      "0   3  96\n",
      "1   6  90\n",
      "2  12  85\n",
      "3   4  99\n",
      "4   4  92\n",
      "5   8  97\n",
      "6   2  95\n",
      "7   2  82\n"
     ]
    }
   ],
   "source": [
    "df = pd.DataFrame(np.random.randint(1,100, 80).reshape(8, -1))\n",
    "print(pd.DataFrame({'mn': df.min(axis=1), 'mx': df.max(axis=1)}))"
   ]
  },
  {
   "cell_type": "markdown",
   "id": "2dc9646d-2d4b-4508-8429-b349b12baabb",
   "metadata": {},
   "source": [
    "# Задание 62"
   ]
  },
  {
   "cell_type": "code",
   "execution_count": 202,
   "id": "8cfb63bb-da56-4cc1-b23f-4df510283eb5",
   "metadata": {},
   "outputs": [
    {
     "name": "stdout",
     "output_type": "stream",
     "text": [
      "    0   1   2   3   4   5   6   7   8   9  penultimate\n",
      "0  52  93  90  80  39  61  82  60  30  17           90\n",
      "1   1  21  52  41  91  20  85  59  17  59           85\n",
      "2  37  23  42  56  60  50  49  18   5   3           56\n",
      "3  76  42  85  51  50   5  28  10  76  81           81\n",
      "4  82  34  30  61  61  10  28   4  65  71           71\n",
      "5  28   5  89  68  59  83  91  37  75  23           89\n",
      "6   3   7  99  22  28  99  65  41  93  70           99\n",
      "7   1  51  81  23  69  85  89  90  65   3           89\n"
     ]
    }
   ],
   "source": [
    "df = pd.DataFrame(np.random.randint(1,100, 80).reshape(8, -1))\n",
    "df['penultimate'] = df.apply(lambda row: row.nlargest(2).iloc[-1], axis=1)\n",
    "print(df)"
   ]
  },
  {
   "cell_type": "markdown",
   "id": "00a6b890-99a9-4939-be7b-35d9be132606",
   "metadata": {},
   "source": [
    "# Задание 63"
   ]
  },
  {
   "cell_type": "code",
   "execution_count": 203,
   "id": "4abec1fb-d0f7-4c1d-866d-b4412f9d55f2",
   "metadata": {},
   "outputs": [
    {
     "name": "stdout",
     "output_type": "stream",
     "text": [
      "        0       1       2       3       4       5       6       7       8  \\\n",
      "0 -1.4097  1.5355 -1.3774  0.5619  0.1750  1.0374  0.1891 -0.1330  0.3832   \n",
      "1  0.1575 -1.2337  0.1704  0.0723  0.8927 -1.1451  0.0656  1.5762  1.0122   \n",
      "2 -1.1946 -0.3107  1.0549 -1.3519  1.0363 -0.8005  0.6523 -0.4878  1.1694   \n",
      "3 -0.4264 -0.7722  0.8338  1.3630 -2.1219 -0.7430 -1.3857 -1.2940  0.8549   \n",
      "4  1.0794  0.2929 -0.1981  0.1613  0.6056  0.3482  1.2082 -0.1653 -1.3201   \n",
      "5  0.3419 -1.0207 -1.3774  0.6954 -0.3993 -0.9153 -0.2123 -1.0360 -0.8222   \n",
      "6  1.4481  1.0385  1.1286 -1.5744 -0.2557  1.1235 -1.4784  1.1569 -0.1409   \n",
      "7  0.0038  0.4704 -0.2349  0.0723  0.0673  1.0948  0.9611  0.3830 -1.1366   \n",
      "\n",
      "        9  \n",
      "0  0.5620  \n",
      "1  1.8588  \n",
      "2 -0.1729  \n",
      "3 -0.9078  \n",
      "4 -0.1297  \n",
      "5  0.0432  \n",
      "6 -1.5130  \n",
      "7  0.2594  \n",
      "       0      1      2      3      4      5      6      7      8      9\n",
      "0 0.0000 1.0000 0.0000 0.7273 0.7273 0.9620 0.6207 0.4045 0.6842 0.6154\n",
      "1 0.5484 0.0000 0.6176 0.5606 0.9545 0.0000 0.5747 1.0000 0.9368 1.0000\n",
      "2 0.0753 0.3333 0.9706 0.0758 1.0000 0.1519 0.7931 0.2809 1.0000 0.3974\n",
      "3 0.3441 0.1667 0.8824 1.0000 0.0000 0.1772 0.0345 0.0000 0.8737 0.1795\n",
      "4 0.8710 0.5513 0.4706 0.5909 0.8636 0.6582 1.0000 0.3933 0.0000 0.4103\n",
      "5 0.6129 0.0769 0.0000 0.7727 0.5455 0.1013 0.4713 0.0899 0.2000 0.4615\n",
      "6 1.0000 0.8205 1.0000 0.0000 0.5909 1.0000 0.0000 0.8539 0.4737 0.0000\n",
      "7 0.4946 0.6154 0.4559 0.5606 0.6932 0.9873 0.9080 0.5843 0.0737 0.5256\n"
     ]
    }
   ],
   "source": [
    "df = pd.DataFrame(np.random.randint(1,100, 80).reshape(8, -1))\n",
    "\n",
    "df_norm = (df - df.mean()) / df.std()\n",
    "df_rank = (df - df.min()) / (df.max() - df.min())\n",
    "\n",
    "print(df_norm)\n",
    "print(df_rank)"
   ]
  },
  {
   "cell_type": "markdown",
   "id": "ebae5085-f8e2-4ee8-8369-8711d5a3e6b3",
   "metadata": {},
   "source": [
    "# Задание 64"
   ]
  },
  {
   "cell_type": "code",
   "execution_count": 205,
   "id": "a36c72ff-061c-4674-885a-3d90962f3c1e",
   "metadata": {},
   "outputs": [
    {
     "name": "stdout",
     "output_type": "stream",
     "text": [
      "0   -0.3148\n",
      "1   -0.0878\n",
      "2   -0.6462\n",
      "3    0.4882\n",
      "4   -0.4031\n",
      "5    0.4423\n",
      "6   -0.3774\n",
      "7    0.3826\n",
      "8   -0.1484\n",
      "9   -0.5280\n",
      "dtype: float64\n"
     ]
    }
   ],
   "source": [
    "df = pd.DataFrame(np.random.randint(1,100, 80).reshape(8, -1))\n",
    "\n",
    "df_shift = df.shift(-1)\n",
    "corr = df.corrwith(df_shift)\n",
    "\n",
    "print(corr)"
   ]
  },
  {
   "cell_type": "markdown",
   "id": "c5fd9896-1106-468e-bb56-515b9c197972",
   "metadata": {},
   "source": [
    "# Задание 65"
   ]
  },
  {
   "cell_type": "code",
   "execution_count": 206,
   "id": "c98272c7-341d-4f8e-bc5f-1f8f75014d30",
   "metadata": {},
   "outputs": [
    {
     "name": "stdout",
     "output_type": "stream",
     "text": [
      "    0   1   2   3   4   5   6   7   8   9\n",
      "0   0  26  93  34  31   2  86  67  64   0\n",
      "1  48   0  32  66  70   3  21  68   0  86\n",
      "2  58   6   0  30  54   1  28   0  83   6\n",
      "3  87  68  24   0  57  91   0  58  38  54\n",
      "4  67  55  60  44   0   0  27  45  70  23\n",
      "5  25  22  81  84   0   0  23  78  35  34\n",
      "6  18  20  15   0  29  49   0  69  88  60\n",
      "7  31  84   0  53  12  69  22   0  27  85\n",
      "8  98   0  75  34  73  23  56  69   0  82\n",
      "9   0  45  80  19  80  28  15  16  66   0\n"
     ]
    }
   ],
   "source": [
    "df = pd.DataFrame(np.random.randint(1,100, 100).reshape(10, -1))\n",
    "np.fill_diagonal(df.values, 0)\n",
    "for i in range(df.shape[0]):\n",
    "    df.iloc[i, df.shape[1] - i - 1] = 0\n",
    "\n",
    "print(df)"
   ]
  },
  {
   "cell_type": "markdown",
   "id": "01bf5a97-b33f-415d-a251-ee8dbf9ab1c3",
   "metadata": {},
   "source": [
    "# Задание 66"
   ]
  },
  {
   "cell_type": "code",
   "execution_count": 207,
   "id": "dde44908-84d2-45f6-90a9-188db4b71b0e",
   "metadata": {},
   "outputs": [
    {
     "name": "stdout",
     "output_type": "stream",
     "text": [
      "    col1   col2  col3\n",
      "0  apple 0.6360    13\n",
      "3  apple 0.4204     9\n",
      "6  apple 0.9076    11\n"
     ]
    },
    {
     "name": "stderr",
     "output_type": "stream",
     "text": [
      "/var/folders/cw/fvky6lcd1fq2kp8_tfxlc3hw0000gn/T/ipykernel_78084/1286414787.py:6: FutureWarning: When grouping with a length-1 list-like, you will need to pass a length-1 tuple to get_group in a future version of pandas. Pass `(name,)` instead of `name` to silence this warning.\n",
      "  apple_group = df_grouped.get_group('apple')\n"
     ]
    }
   ],
   "source": [
    "df = pd.DataFrame({'col1': ['apple', 'banana', 'orange'] * 3,\n",
    "                   'col2': np.random.rand(9),\n",
    "                   'col3': np.random.randint(0, 15, 9)})\n",
    "\n",
    "df_grouped = df.groupby(['col1'])\n",
    "apple_group = df_grouped.get_group('apple')\n",
    "\n",
    "print(apple_group)"
   ]
  },
  {
   "cell_type": "markdown",
   "id": "fa668671-a690-4ac7-9b02-d0ab1ed3d378",
   "metadata": {},
   "source": [
    "# Задание 67"
   ]
  },
  {
   "cell_type": "code",
   "execution_count": 209,
   "id": "0d3a6026-a0ab-4dd0-bbf3-56089172a847",
   "metadata": {},
   "outputs": [
    {
     "name": "stdout",
     "output_type": "stream",
     "text": [
      "    fruit  taste  price\n",
      "0   apple 0.0435      6\n",
      "1  banana 0.1092      9\n",
      "2  orange 0.1096     14\n",
      "3   apple 0.5977      7\n",
      "4  banana 0.8745      3\n",
      "5  orange 0.3542      5\n",
      "6   apple 0.6523      7\n",
      "7  banana 0.3837      3\n",
      "8  orange 0.6981      0\n",
      "0.3837201476344714\n"
     ]
    }
   ],
   "source": [
    "df = pd.DataFrame({'fruit': ['apple', 'banana', 'orange'] * 3,\n",
    "                   'taste': np.random.rand(9),\n",
    "                   'price': np.random.randint(0, 15, 9)})\n",
    "\n",
    "banana_df = df[df['fruit'] == 'banana']\n",
    "top_2_banana = banana_df['taste'].nlargest(2).iloc[-1]\n",
    "print(df)\n",
    "print(top_2_banana)"
   ]
  },
  {
   "cell_type": "markdown",
   "id": "7c845136-afad-4e71-a798-12104c8a7e7f",
   "metadata": {},
   "source": [
    "# Задание 68"
   ]
  },
  {
   "cell_type": "code",
   "execution_count": 210,
   "id": "6ae7fd3d-c534-4fb7-b945-632c9d47367a",
   "metadata": {},
   "outputs": [
    {
     "name": "stdout",
     "output_type": "stream",
     "text": [
      "    fruit  price\n",
      "0   apple 8.0000\n",
      "1  banana 5.3333\n",
      "2  orange 6.0000\n"
     ]
    }
   ],
   "source": [
    "df = pd.DataFrame({'fruit': ['apple', 'banana', 'orange'] * 3,\n",
    "                   'rating': np.random.rand(9),\n",
    "                   'price': np.random.randint(0, 15, 9)})\n",
    "\n",
    "print(df.groupby('fruit')['price'].mean().reset_index())"
   ]
  },
  {
   "cell_type": "markdown",
   "id": "ace44bfc-8452-40ad-a42d-3b8ab56fa086",
   "metadata": {},
   "source": [
    "# Задание 69"
   ]
  },
  {
   "cell_type": "code",
   "execution_count": 213,
   "id": "03f62610-3d29-4eda-96e0-8d28fb18fbf5",
   "metadata": {},
   "outputs": [
    {
     "name": "stdout",
     "output_type": "stream",
     "text": [
      "    fruit weight  price_x  pazham  kilo  price_y\n",
      "0   apple   high        1   apple  high        4\n",
      "1  orange    low        2  orange   low       12\n",
      "2   apple   high       11   apple  high        4\n",
      "3  orange    low        6  orange   low       12\n",
      "4   apple   high       11   apple  high        4\n",
      "5  orange    low        0  orange   low       12\n"
     ]
    }
   ],
   "source": [
    "df1 = pd.DataFrame({'fruit': ['apple', 'banana', 'orange'] * 3,\n",
    "                    'weight': ['high', 'medium', 'low'] * 3,\n",
    "                    'price': np.random.randint(0, 15, 9)})\n",
    "\n",
    "df2 = pd.DataFrame({'pazham': ['apple', 'orange', 'pine'] * 2,\n",
    "                    'kilo': ['high', 'low'] * 3,\n",
    "                    'price': np.random.randint(0, 15, 6)})\n",
    "\n",
    "merged_df = pd.merge(df1, df2, how='inner', left_on=['fruit', 'weight'], right_on=['pazham', 'kilo'])\n",
    "\n",
    "print(merged_df)"
   ]
  },
  {
   "cell_type": "markdown",
   "id": "e5e39774-7378-43ea-a66c-18659da5ae0c",
   "metadata": {},
   "source": [
    "# Задание 70"
   ]
  },
  {
   "cell_type": "code",
   "execution_count": 214,
   "id": "85ee3eb4-6411-40f0-b959-0703646a1684",
   "metadata": {},
   "outputs": [
    {
     "name": "stdout",
     "output_type": "stream",
     "text": [
      "    a   b   c   d  a_lag1  b_lead1\n",
      "0  25  30  88  65     NaN  79.0000\n",
      "1  23  79  88  26 25.0000  91.0000\n",
      "2   1  91  31  94 23.0000  92.0000\n",
      "3  17  92  51  54  1.0000  64.0000\n",
      "4   1  64  13  72 17.0000      NaN\n"
     ]
    }
   ],
   "source": [
    "df = pd.DataFrame(np.random.randint(1, 100, 20).reshape(-1, 4), columns = list('abcd'))\n",
    "\n",
    "df['a_lag1'] = df['a'].shift(1)  \n",
    "df['b_lead1'] = df['b'].shift(-1)  \n",
    "\n",
    "print(df)"
   ]
  },
  {
   "cell_type": "markdown",
   "id": "8e5eddde-5ab5-4bc3-af7e-316b406a7a26",
   "metadata": {},
   "source": [
    "# Задание 71"
   ]
  },
  {
   "cell_type": "code",
   "execution_count": 216,
   "id": "1deb858d-8a71-4fec-bd81-2d649eccd159",
   "metadata": {},
   "outputs": [
    {
     "name": "stdout",
     "output_type": "stream",
     "text": [
      "   a  b  c  d\n",
      "0  8  5  7  7\n",
      "1  3  3  8  8\n",
      "2  1  5  1  9\n",
      "3  7  3  7  7\n",
      "4  2  7  5  3\n",
      "       a      b      c      d\n",
      "1 1.0000    NaN 1.0000    NaN\n",
      "2 1.0000    NaN    NaN    NaN\n",
      "3 1.0000 2.0000    NaN 1.0000\n",
      "5    NaN 2.0000 1.0000    NaN\n",
      "7 1.0000 1.0000 2.0000 2.0000\n",
      "8 1.0000    NaN 1.0000 1.0000\n",
      "9    NaN    NaN    NaN 1.0000\n"
     ]
    }
   ],
   "source": [
    "df = pd.DataFrame(np.random.randint(1, 10, 20).reshape(-1, 4), columns=list('abcd'))\n",
    "\n",
    "un = df.apply(pd.Series.value_counts)\n",
    "print(df)\n",
    "print(un)"
   ]
  },
  {
   "cell_type": "markdown",
   "id": "9f719637-04f2-4c87-a321-a4702af3a7d4",
   "metadata": {},
   "source": [
    "# Задание 72"
   ]
  },
  {
   "cell_type": "code",
   "execution_count": 217,
   "id": "a4d8878d-98de-4dc5-a44a-b1a5e567a54d",
   "metadata": {},
   "outputs": [
    {
     "name": "stdout",
     "output_type": "stream",
     "text": [
      "   STD       City        State\n",
      "0  STD       City        State\n",
      "1   33    Kolkata  West Bengal\n",
      "2   44    Chennai   Tamil Nadu\n",
      "3   40  Hyderabad    Telengana\n",
      "4   80  Bangalore    Karnataka\n"
     ]
    }
   ],
   "source": [
    "df = pd.DataFrame([\"STD, City    State\",\n",
    "                   \"33, Kolkata    West Bengal\",\n",
    "                   \"44, Chennai    Tamil Nadu\",\n",
    "                   \"40, Hyderabad    Telengana\",\n",
    "                   \"80, Bangalore    Karnataka\"], columns=['row'])\n",
    "\n",
    "df_split = df['row'].str.split(r',\\s*|\\s{2,}', expand=True)\n",
    "df_split.columns = ['STD', 'City', 'State']\n",
    "\n",
    "print(df_split)"
   ]
  },
  {
   "cell_type": "code",
   "execution_count": null,
   "id": "a1bbc4d2-cddd-4a3b-8b03-224c375569da",
   "metadata": {},
   "outputs": [],
   "source": []
  }
 ],
 "metadata": {
  "kernelspec": {
   "display_name": "Python 3 (ipykernel)",
   "language": "python",
   "name": "python3"
  },
  "language_info": {
   "codemirror_mode": {
    "name": "ipython",
    "version": 3
   },
   "file_extension": ".py",
   "mimetype": "text/x-python",
   "name": "python",
   "nbconvert_exporter": "python",
   "pygments_lexer": "ipython3",
   "version": "3.11.4"
  }
 },
 "nbformat": 4,
 "nbformat_minor": 5
}
